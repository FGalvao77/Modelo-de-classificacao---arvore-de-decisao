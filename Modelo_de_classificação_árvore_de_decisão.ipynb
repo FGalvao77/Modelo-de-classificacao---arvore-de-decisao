{
  "nbformat": 4,
  "nbformat_minor": 0,
  "metadata": {
    "colab": {
      "name": "Modelo de classificação - árvore de decisão.ipynb",
      "provenance": [],
      "collapsed_sections": [],
      "authorship_tag": "ABX9TyMkt0Jg4RiBhUMGqMGV3LL+",
      "include_colab_link": true
    },
    "kernelspec": {
      "name": "python3",
      "display_name": "Python 3"
    },
    "language_info": {
      "name": "python"
    }
  },
  "cells": [
    {
      "cell_type": "markdown",
      "metadata": {
        "id": "view-in-github",
        "colab_type": "text"
      },
      "source": [
        "<a href=\"https://colab.research.google.com/github/FGalvao77/Modelo-de-classificacao---arvore-de-decisao/blob/main/Modelo_de_classifica%C3%A7%C3%A3o_%C3%A1rvore_de_decis%C3%A3o.ipynb\" target=\"_parent\"><img src=\"https://colab.research.google.com/assets/colab-badge.svg\" alt=\"Open In Colab\"/></a>"
      ]
    },
    {
      "cell_type": "markdown",
      "metadata": {
        "id": "ytbhjZSbUtVv"
      },
      "source": [
        "# **Modelo de classificação - árvore de decisão**\n",
        "\n",
        "---\n",
        "\n"
      ]
    },
    {
      "cell_type": "markdown",
      "metadata": {
        "id": "Nxa329S0VBFW"
      },
      "source": [
        "## **1. Carregando e realizando a leitura dos conjuntos de dados**"
      ]
    },
    {
      "cell_type": "code",
      "metadata": {
        "colab": {
          "base_uri": "https://localhost:8080/"
        },
        "id": "byxkqdHS4r5M",
        "outputId": "f9657f22-c2e1-435e-9b82-7984d5ed71e6"
      },
      "source": [
        "# carregando o conjunto de dados de treino\n",
        "!wget 'https://raw.githubusercontent.com/MLRG-CEFET-RJ/ml-class/master/ml-t3/datasets/credtrain.txt'"
      ],
      "execution_count": 3,
      "outputs": [
        {
          "output_type": "stream",
          "name": "stdout",
          "text": [
            "--2021-11-27 21:14:18--  https://raw.githubusercontent.com/MLRG-CEFET-RJ/ml-class/master/ml-t3/datasets/credtrain.txt\n",
            "Resolving raw.githubusercontent.com (raw.githubusercontent.com)... 185.199.108.133, 185.199.109.133, 185.199.110.133, ...\n",
            "Connecting to raw.githubusercontent.com (raw.githubusercontent.com)|185.199.108.133|:443... connected.\n",
            "HTTP request sent, awaiting response... 200 OK\n",
            "Length: 48124 (47K) [text/plain]\n",
            "Saving to: ‘credtrain.txt.4’\n",
            "\n",
            "credtrain.txt.4     100%[===================>]  47.00K  --.-KB/s    in 0.008s  \n",
            "\n",
            "2021-11-27 21:14:18 (5.99 MB/s) - ‘credtrain.txt.4’ saved [48124/48124]\n",
            "\n"
          ]
        }
      ]
    },
    {
      "cell_type": "code",
      "metadata": {
        "id": "lTMsla37Em3j"
      },
      "source": [
        "# importando biblioteca para ignorar \"erros\"\n",
        "from warnings import filterwarnings\n",
        "filterwarnings('ignore')"
      ],
      "execution_count": 1,
      "outputs": []
    },
    {
      "cell_type": "code",
      "metadata": {
        "id": "UxLNEMFq4Dvj"
      },
      "source": [
        "# importando a biblioteca para modelagem de dados\n",
        "import pandas as pd"
      ],
      "execution_count": 2,
      "outputs": []
    },
    {
      "cell_type": "code",
      "metadata": {
        "colab": {
          "base_uri": "https://localhost:8080/",
          "height": 424
        },
        "id": "W_a_Ygtd4r2d",
        "outputId": "4d0ff055-2530-45ba-a864-923d6e935586"
      },
      "source": [
        "# realizando a leitura do conjunto de dados de treino\n",
        "train_data = pd.read_csv('/content/credtrain.txt')\n",
        "\n",
        "# visualizando o conjunto de dados de treino\n",
        "train_data"
      ],
      "execution_count": 4,
      "outputs": [
        {
          "output_type": "execute_result",
          "data": {
            "text/html": [
              "<div>\n",
              "<style scoped>\n",
              "    .dataframe tbody tr th:only-of-type {\n",
              "        vertical-align: middle;\n",
              "    }\n",
              "\n",
              "    .dataframe tbody tr th {\n",
              "        vertical-align: top;\n",
              "    }\n",
              "\n",
              "    .dataframe thead th {\n",
              "        text-align: right;\n",
              "    }\n",
              "</style>\n",
              "<table border=\"1\" class=\"dataframe\">\n",
              "  <thead>\n",
              "    <tr style=\"text-align: right;\">\n",
              "      <th></th>\n",
              "      <th>1\\t0\\t360\\t0\\t313\\t9\\t52\\t0\\t25\\t48\\t0\\t1</th>\n",
              "    </tr>\n",
              "  </thead>\n",
              "  <tbody>\n",
              "    <tr>\n",
              "      <th>0</th>\n",
              "      <td>0\\t0\\t350\\t1\\t468\\t10\\t65\\t0\\t33\\t6\\t0\\t1</td>\n",
              "    </tr>\n",
              "    <tr>\n",
              "      <th>1</th>\n",
              "      <td>0\\t0\\t1100\\t0\\t829\\t9\\t125\\t0\\t56\\t48\\t0\\t1</td>\n",
              "    </tr>\n",
              "    <tr>\n",
              "      <th>2</th>\n",
              "      <td>0\\t0\\t3000\\t0\\t552\\t12\\t76\\t1\\t31\\t60\\t0\\t1</td>\n",
              "    </tr>\n",
              "    <tr>\n",
              "      <th>3</th>\n",
              "      <td>1\\t0\\t1000\\t0\\t809\\t12\\t111\\t0\\t24\\t7\\t0\\t1</td>\n",
              "    </tr>\n",
              "    <tr>\n",
              "      <th>4</th>\n",
              "      <td>0\\t0\\t300\\t0\\t331\\t6\\t74\\t1\\t41\\t0\\t0\\t1</td>\n",
              "    </tr>\n",
              "    <tr>\n",
              "      <th>...</th>\n",
              "      <td>...</td>\n",
              "    </tr>\n",
              "    <tr>\n",
              "      <th>1494</th>\n",
              "      <td>1\\t0\\t500\\t0\\t437\\t12\\t60\\t0\\t60\\t48\\t0\\t1</td>\n",
              "    </tr>\n",
              "    <tr>\n",
              "      <th>1495</th>\n",
              "      <td>1\\t0\\t2057\\t0\\t301\\t1\\t318\\t0\\t35\\t48\\t0\\t1</td>\n",
              "    </tr>\n",
              "    <tr>\n",
              "      <th>1496</th>\n",
              "      <td>0\\t0\\t570\\t0\\t511\\t12\\t71\\t1\\t28\\t144\\t0\\t1</td>\n",
              "    </tr>\n",
              "    <tr>\n",
              "      <th>1497</th>\n",
              "      <td>0\\t0\\t360\\t0\\t384\\t12\\t52\\t0\\t33\\t36\\t0\\t1</td>\n",
              "    </tr>\n",
              "    <tr>\n",
              "      <th>1498</th>\n",
              "      <td>0\\t4\\t501\\t1\\t849\\t10\\t117\\t0\\t37\\t6\\t0\\t0</td>\n",
              "    </tr>\n",
              "  </tbody>\n",
              "</table>\n",
              "<p>1499 rows × 1 columns</p>\n",
              "</div>"
            ],
            "text/plain": [
              "        1\\t0\\t360\\t0\\t313\\t9\\t52\\t0\\t25\\t48\\t0\\t1\n",
              "0       0\\t0\\t350\\t1\\t468\\t10\\t65\\t0\\t33\\t6\\t0\\t1\n",
              "1     0\\t0\\t1100\\t0\\t829\\t9\\t125\\t0\\t56\\t48\\t0\\t1\n",
              "2     0\\t0\\t3000\\t0\\t552\\t12\\t76\\t1\\t31\\t60\\t0\\t1\n",
              "3     1\\t0\\t1000\\t0\\t809\\t12\\t111\\t0\\t24\\t7\\t0\\t1\n",
              "4        0\\t0\\t300\\t0\\t331\\t6\\t74\\t1\\t41\\t0\\t0\\t1\n",
              "...                                           ...\n",
              "1494   1\\t0\\t500\\t0\\t437\\t12\\t60\\t0\\t60\\t48\\t0\\t1\n",
              "1495  1\\t0\\t2057\\t0\\t301\\t1\\t318\\t0\\t35\\t48\\t0\\t1\n",
              "1496  0\\t0\\t570\\t0\\t511\\t12\\t71\\t1\\t28\\t144\\t0\\t1\n",
              "1497   0\\t0\\t360\\t0\\t384\\t12\\t52\\t0\\t33\\t36\\t0\\t1\n",
              "1498   0\\t4\\t501\\t1\\t849\\t10\\t117\\t0\\t37\\t6\\t0\\t0\n",
              "\n",
              "[1499 rows x 1 columns]"
            ]
          },
          "metadata": {},
          "execution_count": 4
        }
      ]
    },
    {
      "cell_type": "markdown",
      "metadata": {
        "id": "biSqJrBtJ_Rh"
      },
      "source": [
        "> Perceba que a visualização dos dados está \"confusa\".\n",
        "\n",
        "Vamos melhorar sua exibição!"
      ]
    },
    {
      "cell_type": "code",
      "metadata": {
        "colab": {
          "base_uri": "https://localhost:8080/",
          "height": 424
        },
        "id": "wgdKS0zf4rzv",
        "outputId": "1b45c88e-8e6e-4b32-d2fb-7767277c2cd9"
      },
      "source": [
        "# realizando novamente a leitura do conjunto de dados de treino\n",
        "train_data = pd.read_csv('/content/credtrain.txt', sep='\\t')\n",
        "train_data"
      ],
      "execution_count": 5,
      "outputs": [
        {
          "output_type": "execute_result",
          "data": {
            "text/html": [
              "<div>\n",
              "<style scoped>\n",
              "    .dataframe tbody tr th:only-of-type {\n",
              "        vertical-align: middle;\n",
              "    }\n",
              "\n",
              "    .dataframe tbody tr th {\n",
              "        vertical-align: top;\n",
              "    }\n",
              "\n",
              "    .dataframe thead th {\n",
              "        text-align: right;\n",
              "    }\n",
              "</style>\n",
              "<table border=\"1\" class=\"dataframe\">\n",
              "  <thead>\n",
              "    <tr style=\"text-align: right;\">\n",
              "      <th></th>\n",
              "      <th>1</th>\n",
              "      <th>0</th>\n",
              "      <th>360</th>\n",
              "      <th>0.1</th>\n",
              "      <th>313</th>\n",
              "      <th>9</th>\n",
              "      <th>52</th>\n",
              "      <th>0.2</th>\n",
              "      <th>25</th>\n",
              "      <th>48</th>\n",
              "      <th>0.3</th>\n",
              "      <th>1.1</th>\n",
              "    </tr>\n",
              "  </thead>\n",
              "  <tbody>\n",
              "    <tr>\n",
              "      <th>0</th>\n",
              "      <td>0</td>\n",
              "      <td>0</td>\n",
              "      <td>350</td>\n",
              "      <td>1</td>\n",
              "      <td>468</td>\n",
              "      <td>10</td>\n",
              "      <td>65</td>\n",
              "      <td>0</td>\n",
              "      <td>33</td>\n",
              "      <td>6</td>\n",
              "      <td>0</td>\n",
              "      <td>1</td>\n",
              "    </tr>\n",
              "    <tr>\n",
              "      <th>1</th>\n",
              "      <td>0</td>\n",
              "      <td>0</td>\n",
              "      <td>1100</td>\n",
              "      <td>0</td>\n",
              "      <td>829</td>\n",
              "      <td>9</td>\n",
              "      <td>125</td>\n",
              "      <td>0</td>\n",
              "      <td>56</td>\n",
              "      <td>48</td>\n",
              "      <td>0</td>\n",
              "      <td>1</td>\n",
              "    </tr>\n",
              "    <tr>\n",
              "      <th>2</th>\n",
              "      <td>0</td>\n",
              "      <td>0</td>\n",
              "      <td>3000</td>\n",
              "      <td>0</td>\n",
              "      <td>552</td>\n",
              "      <td>12</td>\n",
              "      <td>76</td>\n",
              "      <td>1</td>\n",
              "      <td>31</td>\n",
              "      <td>60</td>\n",
              "      <td>0</td>\n",
              "      <td>1</td>\n",
              "    </tr>\n",
              "    <tr>\n",
              "      <th>3</th>\n",
              "      <td>1</td>\n",
              "      <td>0</td>\n",
              "      <td>1000</td>\n",
              "      <td>0</td>\n",
              "      <td>809</td>\n",
              "      <td>12</td>\n",
              "      <td>111</td>\n",
              "      <td>0</td>\n",
              "      <td>24</td>\n",
              "      <td>7</td>\n",
              "      <td>0</td>\n",
              "      <td>1</td>\n",
              "    </tr>\n",
              "    <tr>\n",
              "      <th>4</th>\n",
              "      <td>0</td>\n",
              "      <td>0</td>\n",
              "      <td>300</td>\n",
              "      <td>0</td>\n",
              "      <td>331</td>\n",
              "      <td>6</td>\n",
              "      <td>74</td>\n",
              "      <td>1</td>\n",
              "      <td>41</td>\n",
              "      <td>0</td>\n",
              "      <td>0</td>\n",
              "      <td>1</td>\n",
              "    </tr>\n",
              "    <tr>\n",
              "      <th>...</th>\n",
              "      <td>...</td>\n",
              "      <td>...</td>\n",
              "      <td>...</td>\n",
              "      <td>...</td>\n",
              "      <td>...</td>\n",
              "      <td>...</td>\n",
              "      <td>...</td>\n",
              "      <td>...</td>\n",
              "      <td>...</td>\n",
              "      <td>...</td>\n",
              "      <td>...</td>\n",
              "      <td>...</td>\n",
              "    </tr>\n",
              "    <tr>\n",
              "      <th>1494</th>\n",
              "      <td>1</td>\n",
              "      <td>0</td>\n",
              "      <td>500</td>\n",
              "      <td>0</td>\n",
              "      <td>437</td>\n",
              "      <td>12</td>\n",
              "      <td>60</td>\n",
              "      <td>0</td>\n",
              "      <td>60</td>\n",
              "      <td>48</td>\n",
              "      <td>0</td>\n",
              "      <td>1</td>\n",
              "    </tr>\n",
              "    <tr>\n",
              "      <th>1495</th>\n",
              "      <td>1</td>\n",
              "      <td>0</td>\n",
              "      <td>2057</td>\n",
              "      <td>0</td>\n",
              "      <td>301</td>\n",
              "      <td>1</td>\n",
              "      <td>318</td>\n",
              "      <td>0</td>\n",
              "      <td>35</td>\n",
              "      <td>48</td>\n",
              "      <td>0</td>\n",
              "      <td>1</td>\n",
              "    </tr>\n",
              "    <tr>\n",
              "      <th>1496</th>\n",
              "      <td>0</td>\n",
              "      <td>0</td>\n",
              "      <td>570</td>\n",
              "      <td>0</td>\n",
              "      <td>511</td>\n",
              "      <td>12</td>\n",
              "      <td>71</td>\n",
              "      <td>1</td>\n",
              "      <td>28</td>\n",
              "      <td>144</td>\n",
              "      <td>0</td>\n",
              "      <td>1</td>\n",
              "    </tr>\n",
              "    <tr>\n",
              "      <th>1497</th>\n",
              "      <td>0</td>\n",
              "      <td>0</td>\n",
              "      <td>360</td>\n",
              "      <td>0</td>\n",
              "      <td>384</td>\n",
              "      <td>12</td>\n",
              "      <td>52</td>\n",
              "      <td>0</td>\n",
              "      <td>33</td>\n",
              "      <td>36</td>\n",
              "      <td>0</td>\n",
              "      <td>1</td>\n",
              "    </tr>\n",
              "    <tr>\n",
              "      <th>1498</th>\n",
              "      <td>0</td>\n",
              "      <td>4</td>\n",
              "      <td>501</td>\n",
              "      <td>1</td>\n",
              "      <td>849</td>\n",
              "      <td>10</td>\n",
              "      <td>117</td>\n",
              "      <td>0</td>\n",
              "      <td>37</td>\n",
              "      <td>6</td>\n",
              "      <td>0</td>\n",
              "      <td>0</td>\n",
              "    </tr>\n",
              "  </tbody>\n",
              "</table>\n",
              "<p>1499 rows × 12 columns</p>\n",
              "</div>"
            ],
            "text/plain": [
              "      1  0   360  0.1  313   9   52  0.2  25   48  0.3  1.1\n",
              "0     0  0   350    1  468  10   65    0  33    6    0    1\n",
              "1     0  0  1100    0  829   9  125    0  56   48    0    1\n",
              "2     0  0  3000    0  552  12   76    1  31   60    0    1\n",
              "3     1  0  1000    0  809  12  111    0  24    7    0    1\n",
              "4     0  0   300    0  331   6   74    1  41    0    0    1\n",
              "...  .. ..   ...  ...  ...  ..  ...  ...  ..  ...  ...  ...\n",
              "1494  1  0   500    0  437  12   60    0  60   48    0    1\n",
              "1495  1  0  2057    0  301   1  318    0  35   48    0    1\n",
              "1496  0  0   570    0  511  12   71    1  28  144    0    1\n",
              "1497  0  0   360    0  384  12   52    0  33   36    0    1\n",
              "1498  0  4   501    1  849  10  117    0  37    6    0    0\n",
              "\n",
              "[1499 rows x 12 columns]"
            ]
          },
          "metadata": {},
          "execution_count": 5
        }
      ]
    },
    {
      "cell_type": "markdown",
      "metadata": {
        "id": "P4XkO9scKt_T"
      },
      "source": [
        "> Agora conseguimos visualizar cada coluna do conjunto de dados, pórem não há nome das colunas.\n",
        "\n",
        "Vamos resolver essa situação!\n",
        "\n",
        "- iremos instanciar o nome dos atributos (colunas) manualmente e, para novamente carregarmos o conjunto de dados com seu `header` (cabeçalho)."
      ]
    },
    {
      "cell_type": "code",
      "metadata": {
        "id": "_o9XhAIA4rxR"
      },
      "source": [
        "# instanciando o nome das colunas\n",
        "headers = ['ESCT', 'NDEP', 'RENDA', 'TIPOR', 'VBEM', 'NPARC',\n",
        "           'VPARC', 'TEL', 'IDADE', 'RESMS', 'ENTRADA', 'CLASSE']"
      ],
      "execution_count": 6,
      "outputs": []
    },
    {
      "cell_type": "code",
      "metadata": {
        "colab": {
          "base_uri": "https://localhost:8080/",
          "height": 206
        },
        "id": "u5q8-F5U4rvT",
        "outputId": "84fabbe5-c049-4646-92ef-8c6ae8bb3ec2"
      },
      "source": [
        "# realizando a leitura do conjunto de dados de treino\n",
        "train_data = pd.read_csv('/content/credtrain.txt', sep='\\t', names=headers)\n",
        "\n",
        "# visualizando as 5 primeiras linhas do conjunto de dados de treino\n",
        "train_data.head()"
      ],
      "execution_count": 7,
      "outputs": [
        {
          "output_type": "execute_result",
          "data": {
            "text/html": [
              "<div>\n",
              "<style scoped>\n",
              "    .dataframe tbody tr th:only-of-type {\n",
              "        vertical-align: middle;\n",
              "    }\n",
              "\n",
              "    .dataframe tbody tr th {\n",
              "        vertical-align: top;\n",
              "    }\n",
              "\n",
              "    .dataframe thead th {\n",
              "        text-align: right;\n",
              "    }\n",
              "</style>\n",
              "<table border=\"1\" class=\"dataframe\">\n",
              "  <thead>\n",
              "    <tr style=\"text-align: right;\">\n",
              "      <th></th>\n",
              "      <th>ESCT</th>\n",
              "      <th>NDEP</th>\n",
              "      <th>RENDA</th>\n",
              "      <th>TIPOR</th>\n",
              "      <th>VBEM</th>\n",
              "      <th>NPARC</th>\n",
              "      <th>VPARC</th>\n",
              "      <th>TEL</th>\n",
              "      <th>IDADE</th>\n",
              "      <th>RESMS</th>\n",
              "      <th>ENTRADA</th>\n",
              "      <th>CLASSE</th>\n",
              "    </tr>\n",
              "  </thead>\n",
              "  <tbody>\n",
              "    <tr>\n",
              "      <th>0</th>\n",
              "      <td>1</td>\n",
              "      <td>0</td>\n",
              "      <td>360</td>\n",
              "      <td>0</td>\n",
              "      <td>313</td>\n",
              "      <td>9</td>\n",
              "      <td>52</td>\n",
              "      <td>0</td>\n",
              "      <td>25</td>\n",
              "      <td>48</td>\n",
              "      <td>0</td>\n",
              "      <td>1</td>\n",
              "    </tr>\n",
              "    <tr>\n",
              "      <th>1</th>\n",
              "      <td>0</td>\n",
              "      <td>0</td>\n",
              "      <td>350</td>\n",
              "      <td>1</td>\n",
              "      <td>468</td>\n",
              "      <td>10</td>\n",
              "      <td>65</td>\n",
              "      <td>0</td>\n",
              "      <td>33</td>\n",
              "      <td>6</td>\n",
              "      <td>0</td>\n",
              "      <td>1</td>\n",
              "    </tr>\n",
              "    <tr>\n",
              "      <th>2</th>\n",
              "      <td>0</td>\n",
              "      <td>0</td>\n",
              "      <td>1100</td>\n",
              "      <td>0</td>\n",
              "      <td>829</td>\n",
              "      <td>9</td>\n",
              "      <td>125</td>\n",
              "      <td>0</td>\n",
              "      <td>56</td>\n",
              "      <td>48</td>\n",
              "      <td>0</td>\n",
              "      <td>1</td>\n",
              "    </tr>\n",
              "    <tr>\n",
              "      <th>3</th>\n",
              "      <td>0</td>\n",
              "      <td>0</td>\n",
              "      <td>3000</td>\n",
              "      <td>0</td>\n",
              "      <td>552</td>\n",
              "      <td>12</td>\n",
              "      <td>76</td>\n",
              "      <td>1</td>\n",
              "      <td>31</td>\n",
              "      <td>60</td>\n",
              "      <td>0</td>\n",
              "      <td>1</td>\n",
              "    </tr>\n",
              "    <tr>\n",
              "      <th>4</th>\n",
              "      <td>1</td>\n",
              "      <td>0</td>\n",
              "      <td>1000</td>\n",
              "      <td>0</td>\n",
              "      <td>809</td>\n",
              "      <td>12</td>\n",
              "      <td>111</td>\n",
              "      <td>0</td>\n",
              "      <td>24</td>\n",
              "      <td>7</td>\n",
              "      <td>0</td>\n",
              "      <td>1</td>\n",
              "    </tr>\n",
              "  </tbody>\n",
              "</table>\n",
              "</div>"
            ],
            "text/plain": [
              "   ESCT  NDEP  RENDA  TIPOR  VBEM  ...  TEL  IDADE  RESMS  ENTRADA  CLASSE\n",
              "0     1     0    360      0   313  ...    0     25     48        0       1\n",
              "1     0     0    350      1   468  ...    0     33      6        0       1\n",
              "2     0     0   1100      0   829  ...    0     56     48        0       1\n",
              "3     0     0   3000      0   552  ...    1     31     60        0       1\n",
              "4     1     0   1000      0   809  ...    0     24      7        0       1\n",
              "\n",
              "[5 rows x 12 columns]"
            ]
          },
          "metadata": {},
          "execution_count": 7
        }
      ]
    },
    {
      "cell_type": "code",
      "metadata": {
        "colab": {
          "base_uri": "https://localhost:8080/"
        },
        "id": "m37lYglS4rsM",
        "outputId": "7012e9d7-bd38-4b32-98eb-60cc381d9d42"
      },
      "source": [
        "# carregando o conjunto de dados de teste\n",
        "!wget 'https://raw.githubusercontent.com/MLRG-CEFET-RJ/ml-class/master/ml-t3/datasets/credtest.txt'"
      ],
      "execution_count": 8,
      "outputs": [
        {
          "output_type": "stream",
          "name": "stdout",
          "text": [
            "--2021-11-27 21:14:18--  https://raw.githubusercontent.com/MLRG-CEFET-RJ/ml-class/master/ml-t3/datasets/credtest.txt\n",
            "Resolving raw.githubusercontent.com (raw.githubusercontent.com)... 185.199.108.133, 185.199.109.133, 185.199.110.133, ...\n",
            "Connecting to raw.githubusercontent.com (raw.githubusercontent.com)|185.199.108.133|:443... connected.\n",
            "HTTP request sent, awaiting response... 500 Internal Server Error\n",
            "2021-11-27 21:14:21 ERROR 500: Internal Server Error.\n",
            "\n"
          ]
        }
      ]
    },
    {
      "cell_type": "code",
      "metadata": {
        "colab": {
          "base_uri": "https://localhost:8080/",
          "height": 206
        },
        "id": "fFOXFldH4rpt",
        "outputId": "5a9729a2-c051-4e79-ef4f-14ac080f8e7d"
      },
      "source": [
        "# realizando a leitura do conjunto de dados de teste\n",
        "test_data = pd.read_csv('/content/credtest.txt', sep='\\t', names=headers)\n",
        "\n",
        "# visualizando as 5 primeiras linhas do conjunto de dados de teste\n",
        "test_data.head()"
      ],
      "execution_count": 9,
      "outputs": [
        {
          "output_type": "execute_result",
          "data": {
            "text/html": [
              "<div>\n",
              "<style scoped>\n",
              "    .dataframe tbody tr th:only-of-type {\n",
              "        vertical-align: middle;\n",
              "    }\n",
              "\n",
              "    .dataframe tbody tr th {\n",
              "        vertical-align: top;\n",
              "    }\n",
              "\n",
              "    .dataframe thead th {\n",
              "        text-align: right;\n",
              "    }\n",
              "</style>\n",
              "<table border=\"1\" class=\"dataframe\">\n",
              "  <thead>\n",
              "    <tr style=\"text-align: right;\">\n",
              "      <th></th>\n",
              "      <th>ESCT</th>\n",
              "      <th>NDEP</th>\n",
              "      <th>RENDA</th>\n",
              "      <th>TIPOR</th>\n",
              "      <th>VBEM</th>\n",
              "      <th>NPARC</th>\n",
              "      <th>VPARC</th>\n",
              "      <th>TEL</th>\n",
              "      <th>IDADE</th>\n",
              "      <th>RESMS</th>\n",
              "      <th>ENTRADA</th>\n",
              "      <th>CLASSE</th>\n",
              "    </tr>\n",
              "  </thead>\n",
              "  <tbody>\n",
              "    <tr>\n",
              "      <th>0</th>\n",
              "      <td>0</td>\n",
              "      <td>2</td>\n",
              "      <td>500</td>\n",
              "      <td>1</td>\n",
              "      <td>618</td>\n",
              "      <td>10</td>\n",
              "      <td>85</td>\n",
              "      <td>0</td>\n",
              "      <td>36</td>\n",
              "      <td>6</td>\n",
              "      <td>0</td>\n",
              "      <td>0</td>\n",
              "    </tr>\n",
              "    <tr>\n",
              "      <th>1</th>\n",
              "      <td>1</td>\n",
              "      <td>0</td>\n",
              "      <td>813</td>\n",
              "      <td>0</td>\n",
              "      <td>552</td>\n",
              "      <td>4</td>\n",
              "      <td>119</td>\n",
              "      <td>0</td>\n",
              "      <td>43</td>\n",
              "      <td>48</td>\n",
              "      <td>119</td>\n",
              "      <td>1</td>\n",
              "    </tr>\n",
              "    <tr>\n",
              "      <th>2</th>\n",
              "      <td>3</td>\n",
              "      <td>0</td>\n",
              "      <td>350</td>\n",
              "      <td>0</td>\n",
              "      <td>488</td>\n",
              "      <td>12</td>\n",
              "      <td>66</td>\n",
              "      <td>0</td>\n",
              "      <td>43</td>\n",
              "      <td>0</td>\n",
              "      <td>0</td>\n",
              "      <td>1</td>\n",
              "    </tr>\n",
              "    <tr>\n",
              "      <th>3</th>\n",
              "      <td>1</td>\n",
              "      <td>0</td>\n",
              "      <td>1530</td>\n",
              "      <td>0</td>\n",
              "      <td>381</td>\n",
              "      <td>1</td>\n",
              "      <td>398</td>\n",
              "      <td>0</td>\n",
              "      <td>28</td>\n",
              "      <td>48</td>\n",
              "      <td>0</td>\n",
              "      <td>1</td>\n",
              "    </tr>\n",
              "    <tr>\n",
              "      <th>4</th>\n",
              "      <td>0</td>\n",
              "      <td>0</td>\n",
              "      <td>688</td>\n",
              "      <td>1</td>\n",
              "      <td>396</td>\n",
              "      <td>10</td>\n",
              "      <td>60</td>\n",
              "      <td>0</td>\n",
              "      <td>49</td>\n",
              "      <td>72</td>\n",
              "      <td>0</td>\n",
              "      <td>1</td>\n",
              "    </tr>\n",
              "  </tbody>\n",
              "</table>\n",
              "</div>"
            ],
            "text/plain": [
              "   ESCT  NDEP  RENDA  TIPOR  VBEM  ...  TEL  IDADE  RESMS  ENTRADA  CLASSE\n",
              "0     0     2    500      1   618  ...    0     36      6        0       0\n",
              "1     1     0    813      0   552  ...    0     43     48      119       1\n",
              "2     3     0    350      0   488  ...    0     43      0        0       1\n",
              "3     1     0   1530      0   381  ...    0     28     48        0       1\n",
              "4     0     0    688      1   396  ...    0     49     72        0       1\n",
              "\n",
              "[5 rows x 12 columns]"
            ]
          },
          "metadata": {},
          "execution_count": 9
        }
      ]
    },
    {
      "cell_type": "markdown",
      "metadata": {
        "id": "xp--CvRWVbvP"
      },
      "source": [
        "## **2. Análise exploratória dos conjuntos de dados**"
      ]
    },
    {
      "cell_type": "code",
      "metadata": {
        "colab": {
          "base_uri": "https://localhost:8080/"
        },
        "id": "Roza8fF24rm8",
        "outputId": "221f280a-b04e-4007-fa74-ae056d2b0896"
      },
      "source": [
        "# visualizando a dimensão dos conjunto de dados - treino e teste\n",
        "train_data.shape, test_data.shape"
      ],
      "execution_count": 10,
      "outputs": [
        {
          "output_type": "execute_result",
          "data": {
            "text/plain": [
              "((1500, 12), (577, 12))"
            ]
          },
          "metadata": {},
          "execution_count": 10
        }
      ]
    },
    {
      "cell_type": "code",
      "metadata": {
        "colab": {
          "base_uri": "https://localhost:8080/"
        },
        "id": "KO2QpT-09E5F",
        "outputId": "038c299d-663f-4a6b-917f-7dd3244338c4"
      },
      "source": [
        "# informações gerais do conjunto de dados de treino\n",
        "train_data.info()"
      ],
      "execution_count": 11,
      "outputs": [
        {
          "output_type": "stream",
          "name": "stdout",
          "text": [
            "<class 'pandas.core.frame.DataFrame'>\n",
            "RangeIndex: 1500 entries, 0 to 1499\n",
            "Data columns (total 12 columns):\n",
            " #   Column   Non-Null Count  Dtype\n",
            "---  ------   --------------  -----\n",
            " 0   ESCT     1500 non-null   int64\n",
            " 1   NDEP     1500 non-null   int64\n",
            " 2   RENDA    1500 non-null   int64\n",
            " 3   TIPOR    1500 non-null   int64\n",
            " 4   VBEM     1500 non-null   int64\n",
            " 5   NPARC    1500 non-null   int64\n",
            " 6   VPARC    1500 non-null   int64\n",
            " 7   TEL      1500 non-null   int64\n",
            " 8   IDADE    1500 non-null   int64\n",
            " 9   RESMS    1500 non-null   int64\n",
            " 10  ENTRADA  1500 non-null   int64\n",
            " 11  CLASSE   1500 non-null   int64\n",
            "dtypes: int64(12)\n",
            "memory usage: 140.8 KB\n"
          ]
        }
      ]
    },
    {
      "cell_type": "code",
      "metadata": {
        "colab": {
          "base_uri": "https://localhost:8080/"
        },
        "id": "nlwzrYeD9IyM",
        "outputId": "713b94d0-a3ff-4637-f5b0-a22df775f381"
      },
      "source": [
        "# informações gerais do conjunto de dados de teste\n",
        "test_data.info()"
      ],
      "execution_count": 12,
      "outputs": [
        {
          "output_type": "stream",
          "name": "stdout",
          "text": [
            "<class 'pandas.core.frame.DataFrame'>\n",
            "RangeIndex: 577 entries, 0 to 576\n",
            "Data columns (total 12 columns):\n",
            " #   Column   Non-Null Count  Dtype\n",
            "---  ------   --------------  -----\n",
            " 0   ESCT     577 non-null    int64\n",
            " 1   NDEP     577 non-null    int64\n",
            " 2   RENDA    577 non-null    int64\n",
            " 3   TIPOR    577 non-null    int64\n",
            " 4   VBEM     577 non-null    int64\n",
            " 5   NPARC    577 non-null    int64\n",
            " 6   VPARC    577 non-null    int64\n",
            " 7   TEL      577 non-null    int64\n",
            " 8   IDADE    577 non-null    int64\n",
            " 9   RESMS    577 non-null    int64\n",
            " 10  ENTRADA  577 non-null    int64\n",
            " 11  CLASSE   577 non-null    int64\n",
            "dtypes: int64(12)\n",
            "memory usage: 54.2 KB\n"
          ]
        }
      ]
    },
    {
      "cell_type": "code",
      "metadata": {
        "colab": {
          "base_uri": "https://localhost:8080/",
          "height": 300
        },
        "id": "TpUwSIOK-paY",
        "outputId": "8ff1862e-3a62-4854-9b6a-2bb4858ce605"
      },
      "source": [
        "# estatística descritiva do conjunto de dados de treino\n",
        "train_data.describe()"
      ],
      "execution_count": 13,
      "outputs": [
        {
          "output_type": "execute_result",
          "data": {
            "text/html": [
              "<div>\n",
              "<style scoped>\n",
              "    .dataframe tbody tr th:only-of-type {\n",
              "        vertical-align: middle;\n",
              "    }\n",
              "\n",
              "    .dataframe tbody tr th {\n",
              "        vertical-align: top;\n",
              "    }\n",
              "\n",
              "    .dataframe thead th {\n",
              "        text-align: right;\n",
              "    }\n",
              "</style>\n",
              "<table border=\"1\" class=\"dataframe\">\n",
              "  <thead>\n",
              "    <tr style=\"text-align: right;\">\n",
              "      <th></th>\n",
              "      <th>ESCT</th>\n",
              "      <th>NDEP</th>\n",
              "      <th>RENDA</th>\n",
              "      <th>TIPOR</th>\n",
              "      <th>VBEM</th>\n",
              "      <th>NPARC</th>\n",
              "      <th>VPARC</th>\n",
              "      <th>TEL</th>\n",
              "      <th>IDADE</th>\n",
              "      <th>RESMS</th>\n",
              "      <th>ENTRADA</th>\n",
              "      <th>CLASSE</th>\n",
              "    </tr>\n",
              "  </thead>\n",
              "  <tbody>\n",
              "    <tr>\n",
              "      <th>count</th>\n",
              "      <td>1500.000000</td>\n",
              "      <td>1500.000000</td>\n",
              "      <td>1500.00000</td>\n",
              "      <td>1500.000000</td>\n",
              "      <td>1500.000000</td>\n",
              "      <td>1500.000000</td>\n",
              "      <td>1500.000000</td>\n",
              "      <td>1500.000000</td>\n",
              "      <td>1500.000000</td>\n",
              "      <td>1500.000000</td>\n",
              "      <td>1500.000000</td>\n",
              "      <td>1500.000000</td>\n",
              "    </tr>\n",
              "    <tr>\n",
              "      <th>mean</th>\n",
              "      <td>0.512000</td>\n",
              "      <td>0.126667</td>\n",
              "      <td>984.51200</td>\n",
              "      <td>0.445333</td>\n",
              "      <td>562.031333</td>\n",
              "      <td>8.392667</td>\n",
              "      <td>102.247333</td>\n",
              "      <td>0.134000</td>\n",
              "      <td>41.210667</td>\n",
              "      <td>31.528667</td>\n",
              "      <td>32.255333</td>\n",
              "      <td>0.476667</td>\n",
              "    </tr>\n",
              "    <tr>\n",
              "      <th>std</th>\n",
              "      <td>0.659909</td>\n",
              "      <td>0.572865</td>\n",
              "      <td>905.53292</td>\n",
              "      <td>0.497168</td>\n",
              "      <td>265.690646</td>\n",
              "      <td>3.609131</td>\n",
              "      <td>62.987325</td>\n",
              "      <td>0.340766</td>\n",
              "      <td>13.202266</td>\n",
              "      <td>52.662099</td>\n",
              "      <td>94.307614</td>\n",
              "      <td>0.499622</td>\n",
              "    </tr>\n",
              "    <tr>\n",
              "      <th>min</th>\n",
              "      <td>0.000000</td>\n",
              "      <td>0.000000</td>\n",
              "      <td>300.00000</td>\n",
              "      <td>0.000000</td>\n",
              "      <td>300.000000</td>\n",
              "      <td>1.000000</td>\n",
              "      <td>50.000000</td>\n",
              "      <td>0.000000</td>\n",
              "      <td>19.000000</td>\n",
              "      <td>0.000000</td>\n",
              "      <td>0.000000</td>\n",
              "      <td>0.000000</td>\n",
              "    </tr>\n",
              "    <tr>\n",
              "      <th>25%</th>\n",
              "      <td>0.000000</td>\n",
              "      <td>0.000000</td>\n",
              "      <td>467.50000</td>\n",
              "      <td>0.000000</td>\n",
              "      <td>410.000000</td>\n",
              "      <td>6.000000</td>\n",
              "      <td>66.000000</td>\n",
              "      <td>0.000000</td>\n",
              "      <td>31.000000</td>\n",
              "      <td>6.000000</td>\n",
              "      <td>0.000000</td>\n",
              "      <td>0.000000</td>\n",
              "    </tr>\n",
              "    <tr>\n",
              "      <th>50%</th>\n",
              "      <td>0.000000</td>\n",
              "      <td>0.000000</td>\n",
              "      <td>650.00000</td>\n",
              "      <td>0.000000</td>\n",
              "      <td>490.000000</td>\n",
              "      <td>10.000000</td>\n",
              "      <td>83.000000</td>\n",
              "      <td>0.000000</td>\n",
              "      <td>39.000000</td>\n",
              "      <td>6.000000</td>\n",
              "      <td>0.000000</td>\n",
              "      <td>0.000000</td>\n",
              "    </tr>\n",
              "    <tr>\n",
              "      <th>75%</th>\n",
              "      <td>1.000000</td>\n",
              "      <td>0.000000</td>\n",
              "      <td>1200.00000</td>\n",
              "      <td>1.000000</td>\n",
              "      <td>618.000000</td>\n",
              "      <td>10.000000</td>\n",
              "      <td>118.000000</td>\n",
              "      <td>0.000000</td>\n",
              "      <td>52.000000</td>\n",
              "      <td>48.000000</td>\n",
              "      <td>0.000000</td>\n",
              "      <td>1.000000</td>\n",
              "    </tr>\n",
              "    <tr>\n",
              "      <th>max</th>\n",
              "      <td>3.000000</td>\n",
              "      <td>7.000000</td>\n",
              "      <td>8000.00000</td>\n",
              "      <td>1.000000</td>\n",
              "      <td>4000.000000</td>\n",
              "      <td>24.000000</td>\n",
              "      <td>711.000000</td>\n",
              "      <td>1.000000</td>\n",
              "      <td>70.000000</td>\n",
              "      <td>420.000000</td>\n",
              "      <td>1300.000000</td>\n",
              "      <td>1.000000</td>\n",
              "    </tr>\n",
              "  </tbody>\n",
              "</table>\n",
              "</div>"
            ],
            "text/plain": [
              "              ESCT         NDEP  ...      ENTRADA       CLASSE\n",
              "count  1500.000000  1500.000000  ...  1500.000000  1500.000000\n",
              "mean      0.512000     0.126667  ...    32.255333     0.476667\n",
              "std       0.659909     0.572865  ...    94.307614     0.499622\n",
              "min       0.000000     0.000000  ...     0.000000     0.000000\n",
              "25%       0.000000     0.000000  ...     0.000000     0.000000\n",
              "50%       0.000000     0.000000  ...     0.000000     0.000000\n",
              "75%       1.000000     0.000000  ...     0.000000     1.000000\n",
              "max       3.000000     7.000000  ...  1300.000000     1.000000\n",
              "\n",
              "[8 rows x 12 columns]"
            ]
          },
          "metadata": {},
          "execution_count": 13
        }
      ]
    },
    {
      "cell_type": "code",
      "metadata": {
        "colab": {
          "base_uri": "https://localhost:8080/",
          "height": 300
        },
        "id": "G2l8XCXB-pXY",
        "outputId": "d0795042-cbf8-47ca-8f54-ab4bd913dbb6"
      },
      "source": [
        "# estatística descritiva do conjunto de dados de teste\n",
        "test_data.describe()"
      ],
      "execution_count": 14,
      "outputs": [
        {
          "output_type": "execute_result",
          "data": {
            "text/html": [
              "<div>\n",
              "<style scoped>\n",
              "    .dataframe tbody tr th:only-of-type {\n",
              "        vertical-align: middle;\n",
              "    }\n",
              "\n",
              "    .dataframe tbody tr th {\n",
              "        vertical-align: top;\n",
              "    }\n",
              "\n",
              "    .dataframe thead th {\n",
              "        text-align: right;\n",
              "    }\n",
              "</style>\n",
              "<table border=\"1\" class=\"dataframe\">\n",
              "  <thead>\n",
              "    <tr style=\"text-align: right;\">\n",
              "      <th></th>\n",
              "      <th>ESCT</th>\n",
              "      <th>NDEP</th>\n",
              "      <th>RENDA</th>\n",
              "      <th>TIPOR</th>\n",
              "      <th>VBEM</th>\n",
              "      <th>NPARC</th>\n",
              "      <th>VPARC</th>\n",
              "      <th>TEL</th>\n",
              "      <th>IDADE</th>\n",
              "      <th>RESMS</th>\n",
              "      <th>ENTRADA</th>\n",
              "      <th>CLASSE</th>\n",
              "    </tr>\n",
              "  </thead>\n",
              "  <tbody>\n",
              "    <tr>\n",
              "      <th>count</th>\n",
              "      <td>577.000000</td>\n",
              "      <td>577.000000</td>\n",
              "      <td>577.000000</td>\n",
              "      <td>577.000000</td>\n",
              "      <td>577.000000</td>\n",
              "      <td>577.000000</td>\n",
              "      <td>577.000000</td>\n",
              "      <td>577.000000</td>\n",
              "      <td>577.000000</td>\n",
              "      <td>577.000000</td>\n",
              "      <td>577.000000</td>\n",
              "      <td>577.000000</td>\n",
              "    </tr>\n",
              "    <tr>\n",
              "      <th>mean</th>\n",
              "      <td>0.547660</td>\n",
              "      <td>0.110919</td>\n",
              "      <td>930.623917</td>\n",
              "      <td>0.452340</td>\n",
              "      <td>568.377816</td>\n",
              "      <td>8.402080</td>\n",
              "      <td>103.755633</td>\n",
              "      <td>0.112652</td>\n",
              "      <td>41.188908</td>\n",
              "      <td>29.270364</td>\n",
              "      <td>26.528596</td>\n",
              "      <td>0.469671</td>\n",
              "    </tr>\n",
              "    <tr>\n",
              "      <th>std</th>\n",
              "      <td>0.710706</td>\n",
              "      <td>0.511841</td>\n",
              "      <td>876.614452</td>\n",
              "      <td>0.498155</td>\n",
              "      <td>352.600280</td>\n",
              "      <td>3.633065</td>\n",
              "      <td>67.692428</td>\n",
              "      <td>0.316441</td>\n",
              "      <td>13.477631</td>\n",
              "      <td>50.100313</td>\n",
              "      <td>90.786052</td>\n",
              "      <td>0.499512</td>\n",
              "    </tr>\n",
              "    <tr>\n",
              "      <th>min</th>\n",
              "      <td>0.000000</td>\n",
              "      <td>0.000000</td>\n",
              "      <td>300.000000</td>\n",
              "      <td>0.000000</td>\n",
              "      <td>300.000000</td>\n",
              "      <td>1.000000</td>\n",
              "      <td>50.000000</td>\n",
              "      <td>0.000000</td>\n",
              "      <td>18.000000</td>\n",
              "      <td>0.000000</td>\n",
              "      <td>0.000000</td>\n",
              "      <td>0.000000</td>\n",
              "    </tr>\n",
              "    <tr>\n",
              "      <th>25%</th>\n",
              "      <td>0.000000</td>\n",
              "      <td>0.000000</td>\n",
              "      <td>475.000000</td>\n",
              "      <td>0.000000</td>\n",
              "      <td>399.000000</td>\n",
              "      <td>6.000000</td>\n",
              "      <td>66.000000</td>\n",
              "      <td>0.000000</td>\n",
              "      <td>30.000000</td>\n",
              "      <td>6.000000</td>\n",
              "      <td>0.000000</td>\n",
              "      <td>0.000000</td>\n",
              "    </tr>\n",
              "    <tr>\n",
              "      <th>50%</th>\n",
              "      <td>0.000000</td>\n",
              "      <td>0.000000</td>\n",
              "      <td>600.000000</td>\n",
              "      <td>0.000000</td>\n",
              "      <td>489.000000</td>\n",
              "      <td>10.000000</td>\n",
              "      <td>85.000000</td>\n",
              "      <td>0.000000</td>\n",
              "      <td>39.000000</td>\n",
              "      <td>6.000000</td>\n",
              "      <td>0.000000</td>\n",
              "      <td>0.000000</td>\n",
              "    </tr>\n",
              "    <tr>\n",
              "      <th>75%</th>\n",
              "      <td>1.000000</td>\n",
              "      <td>0.000000</td>\n",
              "      <td>1000.000000</td>\n",
              "      <td>1.000000</td>\n",
              "      <td>623.000000</td>\n",
              "      <td>10.000000</td>\n",
              "      <td>117.000000</td>\n",
              "      <td>0.000000</td>\n",
              "      <td>52.000000</td>\n",
              "      <td>48.000000</td>\n",
              "      <td>0.000000</td>\n",
              "      <td>1.000000</td>\n",
              "    </tr>\n",
              "    <tr>\n",
              "      <th>max</th>\n",
              "      <td>3.000000</td>\n",
              "      <td>5.000000</td>\n",
              "      <td>9675.000000</td>\n",
              "      <td>1.000000</td>\n",
              "      <td>6000.000000</td>\n",
              "      <td>21.000000</td>\n",
              "      <td>719.000000</td>\n",
              "      <td>1.000000</td>\n",
              "      <td>70.000000</td>\n",
              "      <td>360.000000</td>\n",
              "      <td>1150.000000</td>\n",
              "      <td>1.000000</td>\n",
              "    </tr>\n",
              "  </tbody>\n",
              "</table>\n",
              "</div>"
            ],
            "text/plain": [
              "             ESCT        NDEP        RENDA  ...       RESMS      ENTRADA      CLASSE\n",
              "count  577.000000  577.000000   577.000000  ...  577.000000   577.000000  577.000000\n",
              "mean     0.547660    0.110919   930.623917  ...   29.270364    26.528596    0.469671\n",
              "std      0.710706    0.511841   876.614452  ...   50.100313    90.786052    0.499512\n",
              "min      0.000000    0.000000   300.000000  ...    0.000000     0.000000    0.000000\n",
              "25%      0.000000    0.000000   475.000000  ...    6.000000     0.000000    0.000000\n",
              "50%      0.000000    0.000000   600.000000  ...    6.000000     0.000000    0.000000\n",
              "75%      1.000000    0.000000  1000.000000  ...   48.000000     0.000000    1.000000\n",
              "max      3.000000    5.000000  9675.000000  ...  360.000000  1150.000000    1.000000\n",
              "\n",
              "[8 rows x 12 columns]"
            ]
          },
          "metadata": {},
          "execution_count": 14
        }
      ]
    },
    {
      "cell_type": "code",
      "metadata": {
        "colab": {
          "base_uri": "https://localhost:8080/"
        },
        "id": "SJqIhvzhRgSC",
        "outputId": "2ca19b54-7c11-42eb-dbab-f3c401543128"
      },
      "source": [
        "train_data['CLASSE'].value_counts(normalize=True)"
      ],
      "execution_count": 47,
      "outputs": [
        {
          "output_type": "execute_result",
          "data": {
            "text/plain": [
              "0    0.523333\n",
              "1    0.476667\n",
              "Name: CLASSE, dtype: float64"
            ]
          },
          "metadata": {},
          "execution_count": 47
        }
      ]
    },
    {
      "cell_type": "markdown",
      "metadata": {
        "id": "L9V0tWFCVlQ_"
      },
      "source": [
        "## **3. Pré-poocessamento dos dados**"
      ]
    },
    {
      "cell_type": "code",
      "metadata": {
        "id": "8A6fyAuh4rj9"
      },
      "source": [
        "# importando a biblioteca para modelagem numérica\n",
        "import numpy as np"
      ],
      "execution_count": 15,
      "outputs": []
    },
    {
      "cell_type": "code",
      "metadata": {
        "id": "RedfiD1EJiGa"
      },
      "source": [
        "# # transformação dos atributos e da classe alvo em matrizes\n",
        "# X_train_ = np.array(data_train.iloc[:, 0:11])\n",
        "# y_train_ = np.array(data_train['CLASSE'])\n",
        "\n",
        "# # transformação dos atributos e da classe alvo em matrizes\n",
        "# X_test = np.array(data_test.iloc[:, 0:11])\n",
        "# y_test = np.array(data_test['CLASSE'])"
      ],
      "execution_count": 16,
      "outputs": []
    },
    {
      "cell_type": "code",
      "metadata": {
        "id": "QAN3ITtV8zX1"
      },
      "source": [
        "# df_train = np.array(train_data)"
      ],
      "execution_count": 17,
      "outputs": []
    },
    {
      "cell_type": "code",
      "metadata": {
        "id": "64-5ArKH8Fuq"
      },
      "source": [
        "# df_test = np.array(test_data)"
      ],
      "execution_count": 18,
      "outputs": []
    },
    {
      "cell_type": "code",
      "metadata": {
        "id": "0_bVGVBd8Fpc"
      },
      "source": [
        "# df_train"
      ],
      "execution_count": 19,
      "outputs": []
    },
    {
      "cell_type": "code",
      "metadata": {
        "id": "ITCYfU2x8Fmz"
      },
      "source": [
        "# separando as variáveis explicativas (X) e a resposta (y) do conjunto de dados de treino\n",
        "X = train_data.iloc[:, 0:11]\n",
        "y = train_data['CLASSE']"
      ],
      "execution_count": 20,
      "outputs": []
    },
    {
      "cell_type": "code",
      "metadata": {
        "colab": {
          "base_uri": "https://localhost:8080/",
          "height": 424
        },
        "id": "G9tDdMUX8FkK",
        "outputId": "0d653572-f136-438e-c7e8-ebfd7c668035"
      },
      "source": [
        "# visualizando o objeto criado \"X\"\n",
        "X"
      ],
      "execution_count": 21,
      "outputs": [
        {
          "output_type": "execute_result",
          "data": {
            "text/html": [
              "<div>\n",
              "<style scoped>\n",
              "    .dataframe tbody tr th:only-of-type {\n",
              "        vertical-align: middle;\n",
              "    }\n",
              "\n",
              "    .dataframe tbody tr th {\n",
              "        vertical-align: top;\n",
              "    }\n",
              "\n",
              "    .dataframe thead th {\n",
              "        text-align: right;\n",
              "    }\n",
              "</style>\n",
              "<table border=\"1\" class=\"dataframe\">\n",
              "  <thead>\n",
              "    <tr style=\"text-align: right;\">\n",
              "      <th></th>\n",
              "      <th>ESCT</th>\n",
              "      <th>NDEP</th>\n",
              "      <th>RENDA</th>\n",
              "      <th>TIPOR</th>\n",
              "      <th>VBEM</th>\n",
              "      <th>NPARC</th>\n",
              "      <th>VPARC</th>\n",
              "      <th>TEL</th>\n",
              "      <th>IDADE</th>\n",
              "      <th>RESMS</th>\n",
              "      <th>ENTRADA</th>\n",
              "    </tr>\n",
              "  </thead>\n",
              "  <tbody>\n",
              "    <tr>\n",
              "      <th>0</th>\n",
              "      <td>1</td>\n",
              "      <td>0</td>\n",
              "      <td>360</td>\n",
              "      <td>0</td>\n",
              "      <td>313</td>\n",
              "      <td>9</td>\n",
              "      <td>52</td>\n",
              "      <td>0</td>\n",
              "      <td>25</td>\n",
              "      <td>48</td>\n",
              "      <td>0</td>\n",
              "    </tr>\n",
              "    <tr>\n",
              "      <th>1</th>\n",
              "      <td>0</td>\n",
              "      <td>0</td>\n",
              "      <td>350</td>\n",
              "      <td>1</td>\n",
              "      <td>468</td>\n",
              "      <td>10</td>\n",
              "      <td>65</td>\n",
              "      <td>0</td>\n",
              "      <td>33</td>\n",
              "      <td>6</td>\n",
              "      <td>0</td>\n",
              "    </tr>\n",
              "    <tr>\n",
              "      <th>2</th>\n",
              "      <td>0</td>\n",
              "      <td>0</td>\n",
              "      <td>1100</td>\n",
              "      <td>0</td>\n",
              "      <td>829</td>\n",
              "      <td>9</td>\n",
              "      <td>125</td>\n",
              "      <td>0</td>\n",
              "      <td>56</td>\n",
              "      <td>48</td>\n",
              "      <td>0</td>\n",
              "    </tr>\n",
              "    <tr>\n",
              "      <th>3</th>\n",
              "      <td>0</td>\n",
              "      <td>0</td>\n",
              "      <td>3000</td>\n",
              "      <td>0</td>\n",
              "      <td>552</td>\n",
              "      <td>12</td>\n",
              "      <td>76</td>\n",
              "      <td>1</td>\n",
              "      <td>31</td>\n",
              "      <td>60</td>\n",
              "      <td>0</td>\n",
              "    </tr>\n",
              "    <tr>\n",
              "      <th>4</th>\n",
              "      <td>1</td>\n",
              "      <td>0</td>\n",
              "      <td>1000</td>\n",
              "      <td>0</td>\n",
              "      <td>809</td>\n",
              "      <td>12</td>\n",
              "      <td>111</td>\n",
              "      <td>0</td>\n",
              "      <td>24</td>\n",
              "      <td>7</td>\n",
              "      <td>0</td>\n",
              "    </tr>\n",
              "    <tr>\n",
              "      <th>...</th>\n",
              "      <td>...</td>\n",
              "      <td>...</td>\n",
              "      <td>...</td>\n",
              "      <td>...</td>\n",
              "      <td>...</td>\n",
              "      <td>...</td>\n",
              "      <td>...</td>\n",
              "      <td>...</td>\n",
              "      <td>...</td>\n",
              "      <td>...</td>\n",
              "      <td>...</td>\n",
              "    </tr>\n",
              "    <tr>\n",
              "      <th>1495</th>\n",
              "      <td>1</td>\n",
              "      <td>0</td>\n",
              "      <td>500</td>\n",
              "      <td>0</td>\n",
              "      <td>437</td>\n",
              "      <td>12</td>\n",
              "      <td>60</td>\n",
              "      <td>0</td>\n",
              "      <td>60</td>\n",
              "      <td>48</td>\n",
              "      <td>0</td>\n",
              "    </tr>\n",
              "    <tr>\n",
              "      <th>1496</th>\n",
              "      <td>1</td>\n",
              "      <td>0</td>\n",
              "      <td>2057</td>\n",
              "      <td>0</td>\n",
              "      <td>301</td>\n",
              "      <td>1</td>\n",
              "      <td>318</td>\n",
              "      <td>0</td>\n",
              "      <td>35</td>\n",
              "      <td>48</td>\n",
              "      <td>0</td>\n",
              "    </tr>\n",
              "    <tr>\n",
              "      <th>1497</th>\n",
              "      <td>0</td>\n",
              "      <td>0</td>\n",
              "      <td>570</td>\n",
              "      <td>0</td>\n",
              "      <td>511</td>\n",
              "      <td>12</td>\n",
              "      <td>71</td>\n",
              "      <td>1</td>\n",
              "      <td>28</td>\n",
              "      <td>144</td>\n",
              "      <td>0</td>\n",
              "    </tr>\n",
              "    <tr>\n",
              "      <th>1498</th>\n",
              "      <td>0</td>\n",
              "      <td>0</td>\n",
              "      <td>360</td>\n",
              "      <td>0</td>\n",
              "      <td>384</td>\n",
              "      <td>12</td>\n",
              "      <td>52</td>\n",
              "      <td>0</td>\n",
              "      <td>33</td>\n",
              "      <td>36</td>\n",
              "      <td>0</td>\n",
              "    </tr>\n",
              "    <tr>\n",
              "      <th>1499</th>\n",
              "      <td>0</td>\n",
              "      <td>4</td>\n",
              "      <td>501</td>\n",
              "      <td>1</td>\n",
              "      <td>849</td>\n",
              "      <td>10</td>\n",
              "      <td>117</td>\n",
              "      <td>0</td>\n",
              "      <td>37</td>\n",
              "      <td>6</td>\n",
              "      <td>0</td>\n",
              "    </tr>\n",
              "  </tbody>\n",
              "</table>\n",
              "<p>1500 rows × 11 columns</p>\n",
              "</div>"
            ],
            "text/plain": [
              "      ESCT  NDEP  RENDA  TIPOR  VBEM  NPARC  VPARC  TEL  IDADE  RESMS  ENTRADA\n",
              "0        1     0    360      0   313      9     52    0     25     48        0\n",
              "1        0     0    350      1   468     10     65    0     33      6        0\n",
              "2        0     0   1100      0   829      9    125    0     56     48        0\n",
              "3        0     0   3000      0   552     12     76    1     31     60        0\n",
              "4        1     0   1000      0   809     12    111    0     24      7        0\n",
              "...    ...   ...    ...    ...   ...    ...    ...  ...    ...    ...      ...\n",
              "1495     1     0    500      0   437     12     60    0     60     48        0\n",
              "1496     1     0   2057      0   301      1    318    0     35     48        0\n",
              "1497     0     0    570      0   511     12     71    1     28    144        0\n",
              "1498     0     0    360      0   384     12     52    0     33     36        0\n",
              "1499     0     4    501      1   849     10    117    0     37      6        0\n",
              "\n",
              "[1500 rows x 11 columns]"
            ]
          },
          "metadata": {},
          "execution_count": 21
        }
      ]
    },
    {
      "cell_type": "code",
      "metadata": {
        "colab": {
          "base_uri": "https://localhost:8080/"
        },
        "id": "mSFvYWYs8FhT",
        "outputId": "755f2c65-39b0-42b5-d99f-1003a4d73cc3"
      },
      "source": [
        "# visualizando o objeto criado \"y\"\n",
        "y"
      ],
      "execution_count": 22,
      "outputs": [
        {
          "output_type": "execute_result",
          "data": {
            "text/plain": [
              "0       1\n",
              "1       1\n",
              "2       1\n",
              "3       1\n",
              "4       1\n",
              "       ..\n",
              "1495    1\n",
              "1496    1\n",
              "1497    1\n",
              "1498    1\n",
              "1499    0\n",
              "Name: CLASSE, Length: 1500, dtype: int64"
            ]
          },
          "metadata": {},
          "execution_count": 22
        }
      ]
    },
    {
      "cell_type": "code",
      "metadata": {
        "id": "mjJJ90uY-h7Q"
      },
      "source": [
        "# importando a biblioteca para particionamento dos dados\n",
        "from sklearn.model_selection import train_test_split"
      ],
      "execution_count": 23,
      "outputs": []
    },
    {
      "cell_type": "code",
      "metadata": {
        "id": "hajBis-y-h4Z"
      },
      "source": [
        "# aplicando a divisão dos dados em treino e teste\n",
        "X_train, X_val, y_train, y_val = train_test_split(X, y, train_size=0.8, random_state=31)"
      ],
      "execution_count": 24,
      "outputs": []
    },
    {
      "cell_type": "code",
      "metadata": {
        "colab": {
          "base_uri": "https://localhost:8080/"
        },
        "id": "pFybH4BQ-h1s",
        "outputId": "bd416710-636c-4be0-e1ac-d6d986ab72bf"
      },
      "source": [
        "# visualizando as 5 primeiras linhas dos conjuntos de dados e, a partição dos dados de treino\n",
        "print(train_data.head(),\n",
        "      test_data.head(),\n",
        "      X_train,\n",
        "      y_train,\n",
        "      sep='\\n\\n')"
      ],
      "execution_count": 25,
      "outputs": [
        {
          "output_type": "stream",
          "name": "stdout",
          "text": [
            "   ESCT  NDEP  RENDA  TIPOR  VBEM  ...  TEL  IDADE  RESMS  ENTRADA  CLASSE\n",
            "0     1     0    360      0   313  ...    0     25     48        0       1\n",
            "1     0     0    350      1   468  ...    0     33      6        0       1\n",
            "2     0     0   1100      0   829  ...    0     56     48        0       1\n",
            "3     0     0   3000      0   552  ...    1     31     60        0       1\n",
            "4     1     0   1000      0   809  ...    0     24      7        0       1\n",
            "\n",
            "[5 rows x 12 columns]\n",
            "\n",
            "   ESCT  NDEP  RENDA  TIPOR  VBEM  ...  TEL  IDADE  RESMS  ENTRADA  CLASSE\n",
            "0     0     2    500      1   618  ...    0     36      6        0       0\n",
            "1     1     0    813      0   552  ...    0     43     48      119       1\n",
            "2     3     0    350      0   488  ...    0     43      0        0       1\n",
            "3     1     0   1530      0   381  ...    0     28     48        0       1\n",
            "4     0     0    688      1   396  ...    0     49     72        0       1\n",
            "\n",
            "[5 rows x 12 columns]\n",
            "\n",
            "      ESCT  NDEP  RENDA  TIPOR  VBEM  NPARC  VPARC  TEL  IDADE  RESMS  ENTRADA\n",
            "786      1     0    649      1   311      2     69    1     40      0      190\n",
            "238      0     0    610      0   365      5     61    0     62     48       61\n",
            "324      0     0   1500      0  1099      2    334    0     58      0      438\n",
            "1311     1     0   1000      0   471      3    176    1     45    240        0\n",
            "269      0     0    322      1   469     10     72    1     40      0        0\n",
            "...    ...   ...    ...    ...   ...    ...    ...  ...    ...    ...      ...\n",
            "826      0     0    750      1   446      3    167    0     42      6        0\n",
            "610      0     0    800      1   399     10     55    0     43      6        0\n",
            "894      0     0    303      0   480     10     67    0     27      6        0\n",
            "16       0     2    500      1   347      4    101    0     44      6        0\n",
            "722      1     0    553      1   572      8    101    1     36      0        0\n",
            "\n",
            "[1200 rows x 11 columns]\n",
            "\n",
            "786     0\n",
            "238     0\n",
            "324     0\n",
            "1311    1\n",
            "269     0\n",
            "       ..\n",
            "826     1\n",
            "610     1\n",
            "894     1\n",
            "16      0\n",
            "722     0\n",
            "Name: CLASSE, Length: 1200, dtype: int64\n"
          ]
        }
      ]
    },
    {
      "cell_type": "markdown",
      "metadata": {
        "id": "1mypm22-VtfO"
      },
      "source": [
        "## **4. Instanciando e treinando o modelo**"
      ]
    },
    {
      "cell_type": "code",
      "metadata": {
        "id": "dURF6yH7-hzb"
      },
      "source": [
        "# importando a biblioteca para modelo de árvore de classificação\n",
        "from sklearn.tree import DecisionTreeClassifier"
      ],
      "execution_count": 26,
      "outputs": []
    },
    {
      "cell_type": "code",
      "metadata": {
        "id": "fTQ_Ojpx-hw1"
      },
      "source": [
        "# instanciando o modelo\n",
        "model = DecisionTreeClassifier(max_depth=3, random_state=31)"
      ],
      "execution_count": 27,
      "outputs": []
    },
    {
      "cell_type": "code",
      "metadata": {
        "colab": {
          "base_uri": "https://localhost:8080/"
        },
        "id": "gfhxsB87-huI",
        "outputId": "63eb5772-37f5-4ec8-bfed-35e5b7c63757"
      },
      "source": [
        "# visualizando o modelo\n",
        "model"
      ],
      "execution_count": 28,
      "outputs": [
        {
          "output_type": "execute_result",
          "data": {
            "text/plain": [
              "DecisionTreeClassifier(max_depth=3, random_state=31)"
            ]
          },
          "metadata": {},
          "execution_count": 28
        }
      ]
    },
    {
      "cell_type": "code",
      "metadata": {
        "colab": {
          "base_uri": "https://localhost:8080/"
        },
        "id": "lB93o3De-hsk",
        "outputId": "c5e062f4-f48a-4b19-deae-fedb612d5469"
      },
      "source": [
        "# treinando o modelo com os dados de treino (X_train e y_train)\n",
        "model.fit(X_train, y_train)"
      ],
      "execution_count": 29,
      "outputs": [
        {
          "output_type": "execute_result",
          "data": {
            "text/plain": [
              "DecisionTreeClassifier(max_depth=3, random_state=31)"
            ]
          },
          "metadata": {},
          "execution_count": 29
        }
      ]
    },
    {
      "cell_type": "markdown",
      "metadata": {
        "id": "kxmrLn7UV8Q_"
      },
      "source": [
        "### **4.1. Visualizano a árvore criada pelo modelo**"
      ]
    },
    {
      "cell_type": "code",
      "metadata": {
        "id": "_kxhfnNy-hpQ"
      },
      "source": [
        "# importando as bibliotecas para geração gráfica da árvore de decisão\n",
        "import os\n",
        "from graphviz import Source\n",
        "from sklearn.tree import export_graphviz"
      ],
      "execution_count": 30,
      "outputs": []
    },
    {
      "cell_type": "code",
      "metadata": {
        "id": "Xo5btF_w-hmo"
      },
      "source": [
        "# instanciando o objeto da árvore de decisão\n",
        "export_graphviz(model, out_file='credit_tree.dot',\n",
        "                feature_names=headers[0:11],\n",
        "                rounded=True,\n",
        "                filled=True)"
      ],
      "execution_count": 31,
      "outputs": []
    },
    {
      "cell_type": "code",
      "metadata": {
        "colab": {
          "base_uri": "https://localhost:8080/",
          "height": 519
        },
        "id": "svrMdu8i_9Qz",
        "outputId": "f6352e71-e700-404a-9b4b-e12cfec982ac"
      },
      "source": [
        "# visualizando a árvore de decisão criada pelo modelo\n",
        "Source.from_file('credit_tree.dot')"
      ],
      "execution_count": 32,
      "outputs": [
        {
          "output_type": "execute_result",
          "data": {
            "text/plain": [
              "<graphviz.files.Source at 0x7fe90f8b4d90>"
            ],
            "image/svg+xml": "<?xml version=\"1.0\" encoding=\"UTF-8\" standalone=\"no\"?>\n<!DOCTYPE svg PUBLIC \"-//W3C//DTD SVG 1.1//EN\"\n \"http://www.w3.org/Graphics/SVG/1.1/DTD/svg11.dtd\">\n<!-- Generated by graphviz version 2.40.1 (20161225.0304)\n -->\n<!-- Title: Tree Pages: 1 -->\n<svg width=\"800pt\" height=\"373pt\"\n viewBox=\"0.00 0.00 800.00 373.00\" xmlns=\"http://www.w3.org/2000/svg\" xmlns:xlink=\"http://www.w3.org/1999/xlink\">\n<g id=\"graph0\" class=\"graph\" transform=\"scale(1 1) rotate(0) translate(4 369)\">\n<title>Tree</title>\n<polygon fill=\"#ffffff\" stroke=\"transparent\" points=\"-4,4 -4,-369 796,-369 796,4 -4,4\"/>\n<!-- 0 -->\n<g id=\"node1\" class=\"node\">\n<title>0</title>\n<path fill=\"#fcf1e9\" stroke=\"#000000\" d=\"M452,-365C452,-365 344,-365 344,-365 338,-365 332,-359 332,-353 332,-353 332,-309 332,-309 332,-303 338,-297 344,-297 344,-297 452,-297 452,-297 458,-297 464,-303 464,-309 464,-309 464,-353 464,-353 464,-359 458,-365 452,-365\"/>\n<text text-anchor=\"middle\" x=\"398\" y=\"-349.8\" font-family=\"Helvetica,sans-Serif\" font-size=\"14.00\" fill=\"#000000\">TIPOR &lt;= 0.5</text>\n<text text-anchor=\"middle\" x=\"398\" y=\"-334.8\" font-family=\"Helvetica,sans-Serif\" font-size=\"14.00\" fill=\"#000000\">gini = 0.498</text>\n<text text-anchor=\"middle\" x=\"398\" y=\"-319.8\" font-family=\"Helvetica,sans-Serif\" font-size=\"14.00\" fill=\"#000000\">samples = 1200</text>\n<text text-anchor=\"middle\" x=\"398\" y=\"-304.8\" font-family=\"Helvetica,sans-Serif\" font-size=\"14.00\" fill=\"#000000\">value = [636, 564]</text>\n</g>\n<!-- 1 -->\n<g id=\"node2\" class=\"node\">\n<title>1</title>\n<path fill=\"#8ec7f0\" stroke=\"#000000\" d=\"M377,-261C377,-261 269,-261 269,-261 263,-261 257,-255 257,-249 257,-249 257,-205 257,-205 257,-199 263,-193 269,-193 269,-193 377,-193 377,-193 383,-193 389,-199 389,-205 389,-205 389,-249 389,-249 389,-255 383,-261 377,-261\"/>\n<text text-anchor=\"middle\" x=\"323\" y=\"-245.8\" font-family=\"Helvetica,sans-Serif\" font-size=\"14.00\" fill=\"#000000\">IDADE &lt;= 54.5</text>\n<text text-anchor=\"middle\" x=\"323\" y=\"-230.8\" font-family=\"Helvetica,sans-Serif\" font-size=\"14.00\" fill=\"#000000\">gini = 0.421</text>\n<text text-anchor=\"middle\" x=\"323\" y=\"-215.8\" font-family=\"Helvetica,sans-Serif\" font-size=\"14.00\" fill=\"#000000\">samples = 650</text>\n<text text-anchor=\"middle\" x=\"323\" y=\"-200.8\" font-family=\"Helvetica,sans-Serif\" font-size=\"14.00\" fill=\"#000000\">value = [196, 454]</text>\n</g>\n<!-- 0&#45;&gt;1 -->\n<g id=\"edge1\" class=\"edge\">\n<title>0&#45;&gt;1</title>\n<path fill=\"none\" stroke=\"#000000\" d=\"M373.4422,-296.9465C367.0968,-288.1475 360.1879,-278.5672 353.5764,-269.3993\"/>\n<polygon fill=\"#000000\" stroke=\"#000000\" points=\"356.3011,-267.1937 347.613,-261.13 350.6234,-271.2882 356.3011,-267.1937\"/>\n<text text-anchor=\"middle\" x=\"343.6148\" y=\"-282.1082\" font-family=\"Helvetica,sans-Serif\" font-size=\"14.00\" fill=\"#000000\">True</text>\n</g>\n<!-- 8 -->\n<g id=\"node9\" class=\"node\">\n<title>8</title>\n<path fill=\"#eca06a\" stroke=\"#000000\" d=\"M527,-261C527,-261 419,-261 419,-261 413,-261 407,-255 407,-249 407,-249 407,-205 407,-205 407,-199 413,-193 419,-193 419,-193 527,-193 527,-193 533,-193 539,-199 539,-205 539,-205 539,-249 539,-249 539,-255 533,-261 527,-261\"/>\n<text text-anchor=\"middle\" x=\"473\" y=\"-245.8\" font-family=\"Helvetica,sans-Serif\" font-size=\"14.00\" fill=\"#000000\">IDADE &lt;= 25.5</text>\n<text text-anchor=\"middle\" x=\"473\" y=\"-230.8\" font-family=\"Helvetica,sans-Serif\" font-size=\"14.00\" fill=\"#000000\">gini = 0.32</text>\n<text text-anchor=\"middle\" x=\"473\" y=\"-215.8\" font-family=\"Helvetica,sans-Serif\" font-size=\"14.00\" fill=\"#000000\">samples = 550</text>\n<text text-anchor=\"middle\" x=\"473\" y=\"-200.8\" font-family=\"Helvetica,sans-Serif\" font-size=\"14.00\" fill=\"#000000\">value = [440, 110]</text>\n</g>\n<!-- 0&#45;&gt;8 -->\n<g id=\"edge8\" class=\"edge\">\n<title>0&#45;&gt;8</title>\n<path fill=\"none\" stroke=\"#000000\" d=\"M422.5578,-296.9465C428.9032,-288.1475 435.8121,-278.5672 442.4236,-269.3993\"/>\n<polygon fill=\"#000000\" stroke=\"#000000\" points=\"445.3766,-271.2882 448.387,-261.13 439.6989,-267.1937 445.3766,-271.2882\"/>\n<text text-anchor=\"middle\" x=\"452.3852\" y=\"-282.1082\" font-family=\"Helvetica,sans-Serif\" font-size=\"14.00\" fill=\"#000000\">False</text>\n</g>\n<!-- 2 -->\n<g id=\"node3\" class=\"node\">\n<title>2</title>\n<path fill=\"#3e9fe6\" stroke=\"#000000\" d=\"M232,-157C232,-157 132,-157 132,-157 126,-157 120,-151 120,-145 120,-145 120,-101 120,-101 120,-95 126,-89 132,-89 132,-89 232,-89 232,-89 238,-89 244,-95 244,-101 244,-101 244,-145 244,-145 244,-151 238,-157 232,-157\"/>\n<text text-anchor=\"middle\" x=\"182\" y=\"-141.8\" font-family=\"Helvetica,sans-Serif\" font-size=\"14.00\" fill=\"#000000\">IDADE &lt;= 53.5</text>\n<text text-anchor=\"middle\" x=\"182\" y=\"-126.8\" font-family=\"Helvetica,sans-Serif\" font-size=\"14.00\" fill=\"#000000\">gini = 0.045</text>\n<text text-anchor=\"middle\" x=\"182\" y=\"-111.8\" font-family=\"Helvetica,sans-Serif\" font-size=\"14.00\" fill=\"#000000\">samples = 437</text>\n<text text-anchor=\"middle\" x=\"182\" y=\"-96.8\" font-family=\"Helvetica,sans-Serif\" font-size=\"14.00\" fill=\"#000000\">value = [10, 427]</text>\n</g>\n<!-- 1&#45;&gt;2 -->\n<g id=\"edge2\" class=\"edge\">\n<title>1&#45;&gt;2</title>\n<path fill=\"none\" stroke=\"#000000\" d=\"M276.8313,-192.9465C263.9281,-183.4293 249.7855,-172.9978 236.4517,-163.163\"/>\n<polygon fill=\"#000000\" stroke=\"#000000\" points=\"238.3977,-160.2492 228.2724,-157.13 234.2425,-165.8826 238.3977,-160.2492\"/>\n</g>\n<!-- 5 -->\n<g id=\"node6\" class=\"node\">\n<title>5</title>\n<path fill=\"#e99356\" stroke=\"#000000\" d=\"M379.5,-157C379.5,-157 274.5,-157 274.5,-157 268.5,-157 262.5,-151 262.5,-145 262.5,-145 262.5,-101 262.5,-101 262.5,-95 268.5,-89 274.5,-89 274.5,-89 379.5,-89 379.5,-89 385.5,-89 391.5,-95 391.5,-101 391.5,-101 391.5,-145 391.5,-145 391.5,-151 385.5,-157 379.5,-157\"/>\n<text text-anchor=\"middle\" x=\"327\" y=\"-141.8\" font-family=\"Helvetica,sans-Serif\" font-size=\"14.00\" fill=\"#000000\">RESMS &lt;= 108.0</text>\n<text text-anchor=\"middle\" x=\"327\" y=\"-126.8\" font-family=\"Helvetica,sans-Serif\" font-size=\"14.00\" fill=\"#000000\">gini = 0.221</text>\n<text text-anchor=\"middle\" x=\"327\" y=\"-111.8\" font-family=\"Helvetica,sans-Serif\" font-size=\"14.00\" fill=\"#000000\">samples = 213</text>\n<text text-anchor=\"middle\" x=\"327\" y=\"-96.8\" font-family=\"Helvetica,sans-Serif\" font-size=\"14.00\" fill=\"#000000\">value = [186, 27]</text>\n</g>\n<!-- 1&#45;&gt;5 -->\n<g id=\"edge5\" class=\"edge\">\n<title>1&#45;&gt;5</title>\n<path fill=\"none\" stroke=\"#000000\" d=\"M324.3097,-192.9465C324.624,-184.776 324.9642,-175.9318 325.2935,-167.3697\"/>\n<polygon fill=\"#000000\" stroke=\"#000000\" points=\"328.8003,-167.2572 325.6873,-157.13 321.8055,-166.9881 328.8003,-167.2572\"/>\n</g>\n<!-- 3 -->\n<g id=\"node4\" class=\"node\">\n<title>3</title>\n<path fill=\"#3c9ee5\" stroke=\"#000000\" d=\"M104,-53C104,-53 12,-53 12,-53 6,-53 0,-47 0,-41 0,-41 0,-12 0,-12 0,-6 6,0 12,0 12,0 104,0 104,0 110,0 116,-6 116,-12 116,-12 116,-41 116,-41 116,-47 110,-53 104,-53\"/>\n<text text-anchor=\"middle\" x=\"58\" y=\"-37.8\" font-family=\"Helvetica,sans-Serif\" font-size=\"14.00\" fill=\"#000000\">gini = 0.028</text>\n<text text-anchor=\"middle\" x=\"58\" y=\"-22.8\" font-family=\"Helvetica,sans-Serif\" font-size=\"14.00\" fill=\"#000000\">samples = 426</text>\n<text text-anchor=\"middle\" x=\"58\" y=\"-7.8\" font-family=\"Helvetica,sans-Serif\" font-size=\"14.00\" fill=\"#000000\">value = [6, 420]</text>\n</g>\n<!-- 2&#45;&gt;3 -->\n<g id=\"edge3\" class=\"edge\">\n<title>2&#45;&gt;3</title>\n<path fill=\"none\" stroke=\"#000000\" d=\"M138.2822,-88.9777C126.0451,-79.4545 112.7645,-69.1191 100.5934,-59.6473\"/>\n<polygon fill=\"#000000\" stroke=\"#000000\" points=\"102.4125,-56.628 92.3711,-53.2485 98.1134,-62.1523 102.4125,-56.628\"/>\n</g>\n<!-- 4 -->\n<g id=\"node5\" class=\"node\">\n<title>4</title>\n<path fill=\"#aad5f4\" stroke=\"#000000\" d=\"M226,-53C226,-53 146,-53 146,-53 140,-53 134,-47 134,-41 134,-41 134,-12 134,-12 134,-6 140,0 146,0 146,0 226,0 226,0 232,0 238,-6 238,-12 238,-12 238,-41 238,-41 238,-47 232,-53 226,-53\"/>\n<text text-anchor=\"middle\" x=\"186\" y=\"-37.8\" font-family=\"Helvetica,sans-Serif\" font-size=\"14.00\" fill=\"#000000\">gini = 0.463</text>\n<text text-anchor=\"middle\" x=\"186\" y=\"-22.8\" font-family=\"Helvetica,sans-Serif\" font-size=\"14.00\" fill=\"#000000\">samples = 11</text>\n<text text-anchor=\"middle\" x=\"186\" y=\"-7.8\" font-family=\"Helvetica,sans-Serif\" font-size=\"14.00\" fill=\"#000000\">value = [4, 7]</text>\n</g>\n<!-- 2&#45;&gt;4 -->\n<g id=\"edge4\" class=\"edge\">\n<title>2&#45;&gt;4</title>\n<path fill=\"none\" stroke=\"#000000\" d=\"M183.4103,-88.9777C183.7519,-80.7364 184.1187,-71.887 184.4657,-63.5153\"/>\n<polygon fill=\"#000000\" stroke=\"#000000\" points=\"187.974,-63.3849 184.8913,-53.2485 180.98,-63.0949 187.974,-63.3849\"/>\n</g>\n<!-- 6 -->\n<g id=\"node7\" class=\"node\">\n<title>6</title>\n<path fill=\"#e88d4c\" stroke=\"#000000\" d=\"M374,-53C374,-53 274,-53 274,-53 268,-53 262,-47 262,-41 262,-41 262,-12 262,-12 262,-6 268,0 274,0 274,0 374,0 374,0 380,0 386,-6 386,-12 386,-12 386,-41 386,-41 386,-47 380,-53 374,-53\"/>\n<text text-anchor=\"middle\" x=\"324\" y=\"-37.8\" font-family=\"Helvetica,sans-Serif\" font-size=\"14.00\" fill=\"#000000\">gini = 0.162</text>\n<text text-anchor=\"middle\" x=\"324\" y=\"-22.8\" font-family=\"Helvetica,sans-Serif\" font-size=\"14.00\" fill=\"#000000\">samples = 202</text>\n<text text-anchor=\"middle\" x=\"324\" y=\"-7.8\" font-family=\"Helvetica,sans-Serif\" font-size=\"14.00\" fill=\"#000000\">value = [184, 18]</text>\n</g>\n<!-- 5&#45;&gt;6 -->\n<g id=\"edge6\" class=\"edge\">\n<title>5&#45;&gt;6</title>\n<path fill=\"none\" stroke=\"#000000\" d=\"M325.9423,-88.9777C325.6861,-80.7364 325.411,-71.887 325.1507,-63.5153\"/>\n<polygon fill=\"#000000\" stroke=\"#000000\" points=\"328.6407,-63.1349 324.8316,-53.2485 321.6441,-63.3524 328.6407,-63.1349\"/>\n</g>\n<!-- 7 -->\n<g id=\"node8\" class=\"node\">\n<title>7</title>\n<path fill=\"#65b3eb\" stroke=\"#000000\" d=\"M496,-53C496,-53 416,-53 416,-53 410,-53 404,-47 404,-41 404,-41 404,-12 404,-12 404,-6 410,0 416,0 416,0 496,0 496,0 502,0 508,-6 508,-12 508,-12 508,-41 508,-41 508,-47 502,-53 496,-53\"/>\n<text text-anchor=\"middle\" x=\"456\" y=\"-37.8\" font-family=\"Helvetica,sans-Serif\" font-size=\"14.00\" fill=\"#000000\">gini = 0.298</text>\n<text text-anchor=\"middle\" x=\"456\" y=\"-22.8\" font-family=\"Helvetica,sans-Serif\" font-size=\"14.00\" fill=\"#000000\">samples = 11</text>\n<text text-anchor=\"middle\" x=\"456\" y=\"-7.8\" font-family=\"Helvetica,sans-Serif\" font-size=\"14.00\" fill=\"#000000\">value = [2, 9]</text>\n</g>\n<!-- 5&#45;&gt;7 -->\n<g id=\"edge7\" class=\"edge\">\n<title>5&#45;&gt;7</title>\n<path fill=\"none\" stroke=\"#000000\" d=\"M372.4806,-88.9777C385.3335,-79.3629 399.2931,-68.9203 412.054,-59.3743\"/>\n<polygon fill=\"#000000\" stroke=\"#000000\" points=\"414.332,-62.0412 420.243,-53.2485 410.139,-56.436 414.332,-62.0412\"/>\n</g>\n<!-- 9 -->\n<g id=\"node10\" class=\"node\">\n<title>9</title>\n<path fill=\"#399de5\" stroke=\"#000000\" d=\"M511.5,-149.5C511.5,-149.5 428.5,-149.5 428.5,-149.5 422.5,-149.5 416.5,-143.5 416.5,-137.5 416.5,-137.5 416.5,-108.5 416.5,-108.5 416.5,-102.5 422.5,-96.5 428.5,-96.5 428.5,-96.5 511.5,-96.5 511.5,-96.5 517.5,-96.5 523.5,-102.5 523.5,-108.5 523.5,-108.5 523.5,-137.5 523.5,-137.5 523.5,-143.5 517.5,-149.5 511.5,-149.5\"/>\n<text text-anchor=\"middle\" x=\"470\" y=\"-134.3\" font-family=\"Helvetica,sans-Serif\" font-size=\"14.00\" fill=\"#000000\">gini = 0.0</text>\n<text text-anchor=\"middle\" x=\"470\" y=\"-119.3\" font-family=\"Helvetica,sans-Serif\" font-size=\"14.00\" fill=\"#000000\">samples = 26</text>\n<text text-anchor=\"middle\" x=\"470\" y=\"-104.3\" font-family=\"Helvetica,sans-Serif\" font-size=\"14.00\" fill=\"#000000\">value = [0, 26]</text>\n</g>\n<!-- 8&#45;&gt;9 -->\n<g id=\"edge9\" class=\"edge\">\n<title>8&#45;&gt;9</title>\n<path fill=\"none\" stroke=\"#000000\" d=\"M472.0177,-192.9465C471.7095,-182.2621 471.368,-170.4254 471.055,-159.5742\"/>\n<polygon fill=\"#000000\" stroke=\"#000000\" points=\"474.5526,-159.4371 470.7656,-149.5422 467.5555,-159.639 474.5526,-159.4371\"/>\n</g>\n<!-- 10 -->\n<g id=\"node11\" class=\"node\">\n<title>10</title>\n<path fill=\"#ea995f\" stroke=\"#000000\" d=\"M654,-157C654,-157 554,-157 554,-157 548,-157 542,-151 542,-145 542,-145 542,-101 542,-101 542,-95 548,-89 554,-89 554,-89 654,-89 654,-89 660,-89 666,-95 666,-101 666,-101 666,-145 666,-145 666,-151 660,-157 654,-157\"/>\n<text text-anchor=\"middle\" x=\"604\" y=\"-141.8\" font-family=\"Helvetica,sans-Serif\" font-size=\"14.00\" fill=\"#000000\">NPARC &lt;= 11.0</text>\n<text text-anchor=\"middle\" x=\"604\" y=\"-126.8\" font-family=\"Helvetica,sans-Serif\" font-size=\"14.00\" fill=\"#000000\">gini = 0.269</text>\n<text text-anchor=\"middle\" x=\"604\" y=\"-111.8\" font-family=\"Helvetica,sans-Serif\" font-size=\"14.00\" fill=\"#000000\">samples = 524</text>\n<text text-anchor=\"middle\" x=\"604\" y=\"-96.8\" font-family=\"Helvetica,sans-Serif\" font-size=\"14.00\" fill=\"#000000\">value = [440, 84]</text>\n</g>\n<!-- 8&#45;&gt;10 -->\n<g id=\"edge10\" class=\"edge\">\n<title>8&#45;&gt;10</title>\n<path fill=\"none\" stroke=\"#000000\" d=\"M515.8943,-192.9465C527.7693,-183.519 540.7741,-173.1946 553.0593,-163.4415\"/>\n<polygon fill=\"#000000\" stroke=\"#000000\" points=\"555.3536,-166.089 561.0093,-157.13 551.0011,-160.6066 555.3536,-166.089\"/>\n</g>\n<!-- 11 -->\n<g id=\"node12\" class=\"node\">\n<title>11</title>\n<path fill=\"#e99456\" stroke=\"#000000\" d=\"M646,-53C646,-53 546,-53 546,-53 540,-53 534,-47 534,-41 534,-41 534,-12 534,-12 534,-6 540,0 546,0 546,0 646,0 646,0 652,0 658,-6 658,-12 658,-12 658,-41 658,-41 658,-47 652,-53 646,-53\"/>\n<text text-anchor=\"middle\" x=\"596\" y=\"-37.8\" font-family=\"Helvetica,sans-Serif\" font-size=\"14.00\" fill=\"#000000\">gini = 0.224</text>\n<text text-anchor=\"middle\" x=\"596\" y=\"-22.8\" font-family=\"Helvetica,sans-Serif\" font-size=\"14.00\" fill=\"#000000\">samples = 444</text>\n<text text-anchor=\"middle\" x=\"596\" y=\"-7.8\" font-family=\"Helvetica,sans-Serif\" font-size=\"14.00\" fill=\"#000000\">value = [387, 57]</text>\n</g>\n<!-- 10&#45;&gt;11 -->\n<g id=\"edge11\" class=\"edge\">\n<title>10&#45;&gt;11</title>\n<path fill=\"none\" stroke=\"#000000\" d=\"M601.1795,-88.9777C600.4887,-80.6449 599.7463,-71.6903 599.0455,-63.2364\"/>\n<polygon fill=\"#000000\" stroke=\"#000000\" points=\"602.5318,-62.9251 598.2175,-53.2485 595.5557,-63.5035 602.5318,-62.9251\"/>\n</g>\n<!-- 12 -->\n<g id=\"node13\" class=\"node\">\n<title>12</title>\n<path fill=\"#f2c19e\" stroke=\"#000000\" d=\"M780,-53C780,-53 688,-53 688,-53 682,-53 676,-47 676,-41 676,-41 676,-12 676,-12 676,-6 682,0 688,0 688,0 780,0 780,0 786,0 792,-6 792,-12 792,-12 792,-41 792,-41 792,-47 786,-53 780,-53\"/>\n<text text-anchor=\"middle\" x=\"734\" y=\"-37.8\" font-family=\"Helvetica,sans-Serif\" font-size=\"14.00\" fill=\"#000000\">gini = 0.447</text>\n<text text-anchor=\"middle\" x=\"734\" y=\"-22.8\" font-family=\"Helvetica,sans-Serif\" font-size=\"14.00\" fill=\"#000000\">samples = 80</text>\n<text text-anchor=\"middle\" x=\"734\" y=\"-7.8\" font-family=\"Helvetica,sans-Serif\" font-size=\"14.00\" fill=\"#000000\">value = [53, 27]</text>\n</g>\n<!-- 10&#45;&gt;12 -->\n<g id=\"edge12\" class=\"edge\">\n<title>10&#45;&gt;12</title>\n<path fill=\"none\" stroke=\"#000000\" d=\"M649.8331,-88.9777C662.7857,-79.3629 676.8535,-68.9203 689.7133,-59.3743\"/>\n<polygon fill=\"#000000\" stroke=\"#000000\" points=\"692.0224,-62.0193 697.9658,-53.2485 687.8501,-56.3986 692.0224,-62.0193\"/>\n</g>\n</g>\n</svg>\n"
          },
          "metadata": {},
          "execution_count": 32
        }
      ]
    },
    {
      "cell_type": "code",
      "metadata": {
        "colab": {
          "base_uri": "https://localhost:8080/",
          "height": 206
        },
        "id": "1KxTrVIh_9Nz",
        "outputId": "3cdf4934-694e-4fc4-a9a8-9a133b8c6f7b"
      },
      "source": [
        "# visualizando as 10 primeiras linhas dos dados de validação (X_val)\n",
        "X_val[:10]"
      ],
      "execution_count": 33,
      "outputs": [
        {
          "output_type": "execute_result",
          "data": {
            "text/html": [
              "<div>\n",
              "<style scoped>\n",
              "    .dataframe tbody tr th:only-of-type {\n",
              "        vertical-align: middle;\n",
              "    }\n",
              "\n",
              "    .dataframe tbody tr th {\n",
              "        vertical-align: top;\n",
              "    }\n",
              "\n",
              "    .dataframe thead th {\n",
              "        text-align: right;\n",
              "    }\n",
              "</style>\n",
              "<table border=\"1\" class=\"dataframe\">\n",
              "  <thead>\n",
              "    <tr style=\"text-align: right;\">\n",
              "      <th></th>\n",
              "      <th>ESCT</th>\n",
              "      <th>NDEP</th>\n",
              "      <th>RENDA</th>\n",
              "      <th>TIPOR</th>\n",
              "      <th>VBEM</th>\n",
              "      <th>NPARC</th>\n",
              "      <th>VPARC</th>\n",
              "      <th>TEL</th>\n",
              "      <th>IDADE</th>\n",
              "      <th>RESMS</th>\n",
              "      <th>ENTRADA</th>\n",
              "    </tr>\n",
              "  </thead>\n",
              "  <tbody>\n",
              "    <tr>\n",
              "      <th>1221</th>\n",
              "      <td>0</td>\n",
              "      <td>0</td>\n",
              "      <td>300</td>\n",
              "      <td>1</td>\n",
              "      <td>629</td>\n",
              "      <td>12</td>\n",
              "      <td>55</td>\n",
              "      <td>1</td>\n",
              "      <td>54</td>\n",
              "      <td>60</td>\n",
              "      <td>230</td>\n",
              "    </tr>\n",
              "    <tr>\n",
              "      <th>987</th>\n",
              "      <td>1</td>\n",
              "      <td>0</td>\n",
              "      <td>600</td>\n",
              "      <td>1</td>\n",
              "      <td>540</td>\n",
              "      <td>12</td>\n",
              "      <td>73</td>\n",
              "      <td>0</td>\n",
              "      <td>28</td>\n",
              "      <td>6</td>\n",
              "      <td>0</td>\n",
              "    </tr>\n",
              "    <tr>\n",
              "      <th>190</th>\n",
              "      <td>0</td>\n",
              "      <td>0</td>\n",
              "      <td>317</td>\n",
              "      <td>1</td>\n",
              "      <td>459</td>\n",
              "      <td>12</td>\n",
              "      <td>63</td>\n",
              "      <td>1</td>\n",
              "      <td>57</td>\n",
              "      <td>264</td>\n",
              "      <td>0</td>\n",
              "    </tr>\n",
              "    <tr>\n",
              "      <th>660</th>\n",
              "      <td>0</td>\n",
              "      <td>0</td>\n",
              "      <td>800</td>\n",
              "      <td>0</td>\n",
              "      <td>399</td>\n",
              "      <td>3</td>\n",
              "      <td>149</td>\n",
              "      <td>1</td>\n",
              "      <td>57</td>\n",
              "      <td>0</td>\n",
              "      <td>0</td>\n",
              "    </tr>\n",
              "    <tr>\n",
              "      <th>472</th>\n",
              "      <td>1</td>\n",
              "      <td>0</td>\n",
              "      <td>3000</td>\n",
              "      <td>0</td>\n",
              "      <td>360</td>\n",
              "      <td>1</td>\n",
              "      <td>376</td>\n",
              "      <td>0</td>\n",
              "      <td>43</td>\n",
              "      <td>48</td>\n",
              "      <td>0</td>\n",
              "    </tr>\n",
              "  </tbody>\n",
              "</table>\n",
              "</div>"
            ],
            "text/plain": [
              "      ESCT  NDEP  RENDA  TIPOR  VBEM  NPARC  VPARC  TEL  IDADE  RESMS  ENTRADA\n",
              "1221     0     0    300      1   629     12     55    1     54     60      230\n",
              "987      1     0    600      1   540     12     73    0     28      6        0\n",
              "190      0     0    317      1   459     12     63    1     57    264        0\n",
              "660      0     0    800      0   399      3    149    1     57      0        0\n",
              "472      1     0   3000      0   360      1    376    0     43     48        0"
            ]
          },
          "metadata": {},
          "execution_count": 33
        }
      ]
    },
    {
      "cell_type": "code",
      "metadata": {
        "id": "f0sPKxvG_9Lb"
      },
      "source": [
        "# realizando as predições com o modelo nos dados de validação (X_val)\n",
        "y_pred_val = model.predict(X_val)"
      ],
      "execution_count": 34,
      "outputs": []
    },
    {
      "cell_type": "code",
      "metadata": {
        "colab": {
          "base_uri": "https://localhost:8080/"
        },
        "id": "sIuneeQL_9I0",
        "outputId": "bc232526-80a5-49e3-b9f3-974f81cb9307"
      },
      "source": [
        "# visualizando as predições\n",
        "y_pred_val"
      ],
      "execution_count": 35,
      "outputs": [
        {
          "output_type": "execute_result",
          "data": {
            "text/plain": [
              "array([0, 0, 0, 0, 1, 0, 1, 0, 0, 0, 0, 0, 1, 1, 0, 0, 0, 1, 0, 0, 1, 0,\n",
              "       0, 0, 0, 1, 0, 0, 1, 1, 1, 0, 1, 0, 1, 1, 1, 0, 1, 1, 0, 1, 0, 1,\n",
              "       0, 1, 1, 0, 0, 0, 1, 1, 0, 1, 0, 0, 0, 1, 0, 1, 0, 1, 0, 1, 0, 1,\n",
              "       1, 0, 0, 0, 1, 0, 1, 1, 0, 1, 0, 0, 0, 1, 1, 0, 0, 1, 1, 1, 0, 0,\n",
              "       1, 1, 1, 0, 0, 0, 0, 1, 0, 1, 0, 0, 1, 0, 0, 1, 1, 0, 1, 1, 0, 0,\n",
              "       0, 0, 1, 1, 0, 1, 1, 1, 1, 0, 0, 0, 0, 1, 0, 0, 0, 1, 1, 1, 0, 0,\n",
              "       0, 1, 0, 0, 0, 1, 0, 1, 1, 0, 0, 1, 0, 0, 0, 0, 0, 1, 0, 0, 0, 1,\n",
              "       0, 0, 1, 0, 0, 1, 1, 0, 0, 1, 0, 1, 0, 1, 0, 1, 1, 1, 0, 1, 1, 1,\n",
              "       0, 1, 0, 1, 1, 1, 0, 0, 0, 0, 1, 0, 0, 0, 0, 1, 0, 1, 0, 0, 0, 0,\n",
              "       0, 1, 1, 0, 1, 1, 1, 0, 1, 0, 0, 1, 1, 1, 1, 1, 1, 1, 1, 1, 0, 0,\n",
              "       0, 0, 1, 0, 0, 1, 1, 1, 0, 1, 1, 1, 0, 1, 0, 0, 1, 0, 0, 0, 0, 0,\n",
              "       0, 0, 0, 0, 0, 1, 0, 1, 0, 0, 1, 0, 0, 0, 0, 0, 0, 1, 1, 1, 1, 0,\n",
              "       1, 1, 0, 0, 1, 0, 0, 1, 0, 1, 0, 0, 1, 0, 1, 0, 0, 0, 0, 0, 0, 1,\n",
              "       0, 0, 0, 0, 1, 0, 0, 0, 1, 0, 1, 1, 0, 1])"
            ]
          },
          "metadata": {},
          "execution_count": 35
        }
      ]
    },
    {
      "cell_type": "markdown",
      "metadata": {
        "id": "XzojiBuKWGdP"
      },
      "source": [
        "## **5. Avaliando o modelo**"
      ]
    },
    {
      "cell_type": "code",
      "metadata": {
        "id": "aZDHCWJK_9GN"
      },
      "source": [
        "# importando as bibliotecas para gerar o relatório de classificação e matriz de confusão\n",
        "from sklearn.metrics import classification_report, confusion_matrix"
      ],
      "execution_count": 36,
      "outputs": []
    },
    {
      "cell_type": "code",
      "metadata": {
        "colab": {
          "base_uri": "https://localhost:8080/"
        },
        "id": "T7Cwx42G_9D3",
        "outputId": "7d5af934-dde2-4447-eb8d-045f520f61f5"
      },
      "source": [
        "# visualizando a matriz de confusão com as predições realizadas (y_pred_val) e os dados de validação (y_val)\n",
        "confusion_matrix(y_pred_val, y_val)"
      ],
      "execution_count": 37,
      "outputs": [
        {
          "output_type": "execute_result",
          "data": {
            "text/plain": [
              "array([[146,  26],\n",
              "       [  3, 125]])"
            ]
          },
          "metadata": {},
          "execution_count": 37
        }
      ]
    },
    {
      "cell_type": "code",
      "metadata": {
        "id": "OL4AcY2t_9BU"
      },
      "source": [
        "# importando as biblioetcas para visualização gráfica\n",
        "from matplotlib import pyplot as plt\n",
        "import seaborn as sns\n",
        "\n",
        "%matplotlib inline"
      ],
      "execution_count": 38,
      "outputs": []
    },
    {
      "cell_type": "markdown",
      "metadata": {
        "id": "jfOKt_nEWOD3"
      },
      "source": [
        "### **5.1. Visualizando o relatório de classificação e a matriz de confusão**"
      ]
    },
    {
      "cell_type": "code",
      "metadata": {
        "colab": {
          "base_uri": "https://localhost:8080/",
          "height": 696
        },
        "id": "IohtzfhT_8-M",
        "outputId": "10bd2eb5-a6e2-4b01-dab9-b3c6fce66996"
      },
      "source": [
        "# imprimindo o relatório de classificação dos dados de validação do modelo\n",
        "print(classification_report(y_pred_val, y_val))\n",
        "\n",
        "# visualizando graficamente a matriz de confusão dos dados de validação do modelo\n",
        "fig = plt.figure(figsize=[10, 8])\n",
        "fig.suptitle('Matriz de Confusão', fontsize=18, fontweight='bold')\n",
        "\n",
        "sns.heatmap(confusion_matrix(y_pred_val, y_val), cmap='Blues', annot=True)\n",
        "plt.title('Árvore de Decisão - validação', fontsize=14)\n",
        "plt.xticks()\n",
        "plt.yticks()\n",
        "\n",
        "plt.annotate('TP', (0.2,0.5), fontsize=18, fontweight='bold', color='green')\n",
        "plt.annotate('FN', (1.2,0.5), fontsize=18, fontweight='bold', color='red')\n",
        "plt.annotate('FP', (0.2,1.5), fontsize=18, fontweight='bold', color='red')\n",
        "plt.annotate('TN', (1.2,1.5), fontsize=18, fontweight='bold', color='green')\n",
        "\n",
        "plt.show();"
      ],
      "execution_count": 39,
      "outputs": [
        {
          "output_type": "stream",
          "name": "stdout",
          "text": [
            "              precision    recall  f1-score   support\n",
            "\n",
            "           0       0.98      0.85      0.91       172\n",
            "           1       0.83      0.98      0.90       128\n",
            "\n",
            "    accuracy                           0.90       300\n",
            "   macro avg       0.90      0.91      0.90       300\n",
            "weighted avg       0.91      0.90      0.90       300\n",
            "\n"
          ]
        },
        {
          "output_type": "display_data",
          "data": {
            "image/png": "[encoded data removed]",
            "text/plain": [
              "<Figure size 720x576 with 2 Axes>"
            ]
          },
          "metadata": {
            "needs_background": "light"
          }
        }
      ]
    },
    {
      "cell_type": "markdown",
      "metadata": {
        "id": "Jdr_LWQSWePn"
      },
      "source": [
        "**Aplicando um segundo modelo**\n",
        "\n",
        "Iremos aumentar a profundidade da árvore, `max_depth=5` e aplicar o método `class_weight='balanced'` para balancear as instâncias presentes na varíavel alvo.\n"
      ]
    },
    {
      "cell_type": "code",
      "metadata": {
        "colab": {
          "base_uri": "https://localhost:8080/"
        },
        "id": "ZLaFopVqR2gR",
        "outputId": "27d22b0f-3c90-4a39-d1ad-aa21edf89da3"
      },
      "source": [
        "# instanciando o segundo modelo\n",
        "model2 = DecisionTreeClassifier(max_depth=5, random_state=31, class_weight='balanced')\n",
        "model2"
      ],
      "execution_count": 61,
      "outputs": [
        {
          "output_type": "execute_result",
          "data": {
            "text/plain": [
              "DecisionTreeClassifier(class_weight='balanced', max_depth=5, random_state=31)"
            ]
          },
          "metadata": {},
          "execution_count": 61
        }
      ]
    },
    {
      "cell_type": "code",
      "metadata": {
        "colab": {
          "base_uri": "https://localhost:8080/"
        },
        "id": "NlIXtc3cRyPL",
        "outputId": "39a4dfe6-f407-4706-c976-da084a9f8e5b"
      },
      "source": [
        "# treinando o modelo com os dados de treino (X_train e y_train)\n",
        "model2.fit(X_train, y_train)"
      ],
      "execution_count": 62,
      "outputs": [
        {
          "output_type": "execute_result",
          "data": {
            "text/plain": [
              "DecisionTreeClassifier(class_weight='balanced', max_depth=5, random_state=31)"
            ]
          },
          "metadata": {},
          "execution_count": 62
        }
      ]
    },
    {
      "cell_type": "code",
      "metadata": {
        "id": "-CsFeua_SDFd"
      },
      "source": [
        "# realizando as predições com o segundo modelo nos dados de validação (X_val)\n",
        "y_pred_val2 = model2.predict(X_val)"
      ],
      "execution_count": 63,
      "outputs": []
    },
    {
      "cell_type": "code",
      "metadata": {
        "colab": {
          "base_uri": "https://localhost:8080/",
          "height": 696
        },
        "id": "2KQC0z2HSDCx",
        "outputId": "7d0f7aaf-e07b-402d-dd20-76b2645e1b1a"
      },
      "source": [
        "# imprimindo o relatório de classificação dos dados de validação do segundo modelo\n",
        "print(classification_report(y_pred_val2, y_val))\n",
        "\n",
        "# visualizando graficamente a matriz de confusão dos dados de validação do segundo modelo\n",
        "fig = plt.figure(figsize=[10, 8])\n",
        "fig.suptitle('Matriz de Confusão', fontsize=18, fontweight='bold')\n",
        "\n",
        "sns.heatmap(confusion_matrix(y_pred_val2, y_val), cmap='Blues', annot=True)\n",
        "plt.title('Árvore de Decisão - validação', fontsize=14)\n",
        "plt.xticks()\n",
        "plt.yticks()\n",
        "\n",
        "plt.annotate('TP', (0.2,0.5), fontsize=18, fontweight='bold', color='green')\n",
        "plt.annotate('FN', (1.2,0.5), fontsize=18, fontweight='bold', color='red')\n",
        "plt.annotate('FP', (0.2,1.5), fontsize=18, fontweight='bold', color='red')\n",
        "plt.annotate('TN', (1.2,1.5), fontsize=18, fontweight='bold', color='green')\n",
        "\n",
        "plt.show();"
      ],
      "execution_count": 64,
      "outputs": [
        {
          "output_type": "stream",
          "name": "stdout",
          "text": [
            "              precision    recall  f1-score   support\n",
            "\n",
            "           0       0.95      0.85      0.90       167\n",
            "           1       0.83      0.95      0.89       133\n",
            "\n",
            "    accuracy                           0.89       300\n",
            "   macro avg       0.89      0.90      0.89       300\n",
            "weighted avg       0.90      0.89      0.89       300\n",
            "\n"
          ]
        },
        {
          "output_type": "display_data",
          "data": {
            "image/png": "[encoded data removed]",
            "text/plain": [
              "<Figure size 720x576 with 2 Axes>"
            ]
          },
          "metadata": {
            "needs_background": "light"
          }
        }
      ]
    },
    {
      "cell_type": "markdown",
      "metadata": {
        "id": "E7c_9898XQao"
      },
      "source": [
        "## **6. Aplicando e avaliando o modelo com os dados de teste**"
      ]
    },
    {
      "cell_type": "code",
      "metadata": {
        "id": "rpy0idgbDmb4"
      },
      "source": [
        "# instanciando as variáveis explicativas e a resposta do conjunto de dados de teste (test_data)\n",
        "X_test = np.array(test_data.iloc[:, 0:11])\n",
        "y_test = np.array(test_data['CLASSE'])"
      ],
      "execution_count": 40,
      "outputs": []
    },
    {
      "cell_type": "code",
      "metadata": {
        "id": "0oHdJH7hBd33"
      },
      "source": [
        "# realizando novas predições com o modelo com os dados \"X_test\"\n",
        "new_pred = model.predict(X_test)"
      ],
      "execution_count": 41,
      "outputs": []
    },
    {
      "cell_type": "code",
      "metadata": {
        "colab": {
          "base_uri": "https://localhost:8080/"
        },
        "id": "BZzfYRngBd0m",
        "outputId": "cd410ba9-0b02-40c8-dd2b-024ef8630c6a"
      },
      "source": [
        "# visualizando as 10 primeiras predições\n",
        "new_pred[:10]"
      ],
      "execution_count": 42,
      "outputs": [
        {
          "output_type": "execute_result",
          "data": {
            "text/plain": [
              "array([0, 1, 1, 1, 0, 0, 0, 0, 0, 1])"
            ]
          },
          "metadata": {},
          "execution_count": 42
        }
      ]
    },
    {
      "cell_type": "code",
      "metadata": {
        "colab": {
          "base_uri": "https://localhost:8080/"
        },
        "id": "v0WAfamGBdzB",
        "outputId": "6b1b4f22-ef5b-415e-d161-b08c2c209320"
      },
      "source": [
        "# visualizando a dimensão dos conjuntos de dados\n",
        "print(X_train.shape,\n",
        "      X_val.shape,\n",
        "      X_test.shape,\n",
        "      sep='\\n')"
      ],
      "execution_count": 43,
      "outputs": [
        {
          "output_type": "stream",
          "name": "stdout",
          "text": [
            "(1200, 11)\n",
            "(300, 11)\n",
            "(577, 11)\n"
          ]
        }
      ]
    },
    {
      "cell_type": "code",
      "metadata": {
        "colab": {
          "base_uri": "https://localhost:8080/",
          "height": 696
        },
        "id": "6S6RASIFBdvT",
        "outputId": "eb341c5a-c36c-4514-8456-5e890a5cba2b"
      },
      "source": [
        "# imprimindo o relatório de classificação dos dados de teste do modelo\n",
        "print(classification_report(new_pred, y_test))\n",
        "\n",
        "# visualizando graficamente a matriz de confusão dos dados de teste do modelo\n",
        "fig = plt.figure(figsize=[10, 8])\n",
        "fig.suptitle('Matriz de Confusão', fontsize=18, fontweight='bold')\n",
        "\n",
        "sns.heatmap(confusion_matrix(new_pred, y_test), cmap='Blues', annot=True)\n",
        "plt.title('Árvore de Decisão - teste', fontsize=14)\n",
        "plt.xticks()\n",
        "plt.yticks()\n",
        "\n",
        "plt.annotate('TP', (0.2,0.5), fontsize=18, fontweight='bold', color='green')\n",
        "plt.annotate('FN', (1.2,0.5), fontsize=18, fontweight='bold', color='red')\n",
        "plt.annotate('FP', (0.2,1.5), fontsize=18, fontweight='bold', color='red')\n",
        "plt.annotate('TN', (1.2,1.5), fontsize=18, fontweight='bold', color='green')\n",
        "\n",
        "plt.show()"
      ],
      "execution_count": 44,
      "outputs": [
        {
          "output_type": "stream",
          "name": "stdout",
          "text": [
            "              precision    recall  f1-score   support\n",
            "\n",
            "           0       0.99      0.85      0.92       354\n",
            "           1       0.81      0.98      0.89       223\n",
            "\n",
            "    accuracy                           0.90       577\n",
            "   macro avg       0.90      0.92      0.90       577\n",
            "weighted avg       0.92      0.90      0.90       577\n",
            "\n"
          ]
        },
        {
          "output_type": "display_data",
          "data": {
            "image/png": "[encoded data removed]",
            "text/plain": [
              "<Figure size 720x576 with 2 Axes>"
            ]
          },
          "metadata": {
            "needs_background": "light"
          }
        }
      ]
    },
    {
      "cell_type": "markdown",
      "metadata": {
        "id": "DT3BW_V6TOvk"
      },
      "source": [
        "## **7.Referências**\n",
        "\n",
        "- Bezerra, Eduardo (2016) Introdução à Aprendizagem Profunda. Disponível em: \n",
        " - https://www.researchgate.net/publication/309321510_Introducao_a_Aprendizagem_Profunda, julho de 2020.\n",
        "\n",
        "- Géron, Aurélien (2019). Mãos à Obra Aprendizagem de Máquina com Scikit-Learn & TensorFlow: Conceitos, ferramentas e técnicas para a construção de sistemas inteligentes. Traduzido por Rafael Contatori. Alta Books.\n",
        "\n",
        "- Grus, Joel (2016). Data Science do Zero: Primeiras regras com Python. Traduzido por Welington Nascimento. Alta Books.\n",
        "\n",
        "- Han, Jiawei. Kamber, Micheline. Pei, Jian (2012) Data Mining: Concepts and techniques. Morgan Kaufmann, 3rd Edition.\n",
        "\n",
        "- McKinney, Wes (2018). Python para Análise de Dados: tratamento de dados com pandas, numpy e iPython. Traduzido por Lúcia A. Kinoshita. Novatec."
      ]
    },
    {
      "cell_type": "markdown",
      "metadata": {
        "id": "-pHByvhzTgZd"
      },
      "source": [
        "### **7.1. Leitura complementar e tutoriais:**\n",
        "\n",
        "- [Playlist Mineração de Dados (Prof. Eduardo Ogasawara - Mestrado PPCIC)](https://www.youtube.com/playlist?list=PLTy3TWJeueGw1eeP1cvaIiTzJrIljcVAq)\n",
        "- [Variáveis dummies](https://www.delftstack.com/pt/howto/python-pandas/get-dummies-pandas/)\n",
        "- [Documentação do método pandas.get_dummies](https://pandas.pydata.org/docs/reference/api/pandas.get_dummies.html)\n",
        "- [Cálculo da curva de aprendizagem](https://scikit-learn.org/stable/modules/generated/sklearn.model_selection.learning_curve.html#sklearn.model_selection.learning_curve)\n",
        "- [Definição da estratégia de separação dos conjuntos de treino e validação no cálculo da curva de aprendizagem](https://scikit-learn.org/stable/modules/generated/sklearn.model_selection.ShuffleSplit.html#sklearn.model_selection.ShuffleSplit)"
      ]
    },
    {
      "cell_type": "code",
      "metadata": {
        "id": "A3on1DDtBdpt"
      },
      "source": [
        ""
      ],
      "execution_count": 44,
      "outputs": []
    },
    {
      "cell_type": "code",
      "metadata": {
        "id": "xMuV4UEoHFsF"
      },
      "source": [
        ""
      ],
      "execution_count": 44,
      "outputs": []
    },
    {
      "cell_type": "code",
      "metadata": {
        "id": "xkzhSLOgHFpd"
      },
      "source": [
        ""
      ],
      "execution_count": 44,
      "outputs": []
    }
  ]
}